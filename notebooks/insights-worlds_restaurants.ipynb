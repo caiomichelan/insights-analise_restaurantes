{
 "cells": [
  {
   "cell_type": "markdown",
   "id": "be9b865f",
   "metadata": {
    "id": "be9b865f",
    "tags": []
   },
   "source": [
    "# 0.0. Imports"
   ]
  },
  {
   "cell_type": "code",
   "execution_count": 1,
   "id": "c3e45637",
   "metadata": {
    "ExecuteTime": {
     "end_time": "2023-03-26T19:34:10.738032Z",
     "start_time": "2023-03-26T19:34:10.731719Z"
    },
    "executionInfo": {
     "elapsed": 264,
     "status": "ok",
     "timestamp": 1680882769623,
     "user": {
      "displayName": "Caio Michelan",
      "userId": "13984359377065576664"
     },
     "user_tz": 180
    },
    "id": "c3e45637"
   },
   "outputs": [
    {
     "name": "stderr",
     "output_type": "stream",
     "text": [
      "2023-04-11 21:53:14.206 INFO    visions.backends: Pandas backend loaded 1.4.2\n",
      "2023-04-11 21:53:14.242 INFO    visions.backends: Numpy backend loaded 1.21.5\n",
      "2023-04-11 21:53:14.272 INFO    visions.backends: Pyspark backend loaded 3.3.0\n",
      "2023-04-11 21:53:14.273 INFO    visions.backends: Python backend loaded\n"
     ]
    }
   ],
   "source": [
    "#Import Libraries\n",
    "import pandas as pd\n",
    "import numpy as np\n",
    "\n",
    "import streamlit as st\n",
    "\n",
    "import plotly.express as px\n",
    "\n",
    "import inflection\n",
    "\n",
    "import sweetviz as sv\n",
    "from ydata_profiling import ProfileReport"
   ]
  },
  {
   "cell_type": "markdown",
   "id": "f722dfee-f542-4f37-8fa5-afe394ae1817",
   "metadata": {},
   "source": [
    "# 0.1. Variables Guide"
   ]
  },
  {
   "cell_type": "code",
   "execution_count": 2,
   "id": "c7e18fbb-de98-47d5-8da5-8370344ce92b",
   "metadata": {},
   "outputs": [],
   "source": [
    "#Adjusting variables\n",
    "COUNTRIES = {\n",
    "    1: \"India\",\n",
    "    14: \"Australia\",\n",
    "    30: \"Brazil\",\n",
    "    37: \"Canada\",\n",
    "    94: \"Indonesia\",\n",
    "    148: \"New Zeland\",\n",
    "    162: \"Philippines\",\n",
    "    166: \"Qatar\",\n",
    "    184: \"Singapure\",\n",
    "    189: \"South Africa\",\n",
    "    191: \"Sri Lanka\",\n",
    "    208: \"Turkey\",\n",
    "    214: \"United Arab Emirates\",\n",
    "    215: \"England\",\n",
    "    216: \"United States of America\",\n",
    "}\n",
    "\n",
    "\n",
    "COLORS = {\n",
    "    \"3F7E00\": \"darkgreen\",\n",
    "    \"5BA829\": \"green\",\n",
    "    \"9ACD32\": \"lightgreen\",\n",
    "    \"CDD614\": \"orange\",\n",
    "    \"FFBA00\": \"red\",\n",
    "    \"CBCBC8\": \"darkred\",\n",
    "    \"FF7800\": \"darkred\",\n",
    "}"
   ]
  },
  {
   "cell_type": "markdown",
   "id": "1d4055de-c082-4603-ae71-fc25a50d3736",
   "metadata": {
    "id": "1d4055de-c082-4603-ae71-fc25a50d3736"
   },
   "source": [
    "# 0.2. Functions"
   ]
  },
  {
   "cell_type": "code",
   "execution_count": 3,
   "id": "29018728-1457-4ad2-a5ff-de0fa5ab4977",
   "metadata": {
    "executionInfo": {
     "elapsed": 10,
     "status": "ok",
     "timestamp": 1680883067217,
     "user": {
      "displayName": "Caio Michelan",
      "userId": "13984359377065576664"
     },
     "user_tz": 180
    },
    "id": "29018728-1457-4ad2-a5ff-de0fa5ab4977"
   },
   "outputs": [],
   "source": [
    "#Functions\n",
    "#Adjusting float fata format\n",
    "pd.set_option('display.float_format', '{:.2f}'.format)\n",
    "np.set_printoptions(suppress=True)"
   ]
  },
  {
   "cell_type": "code",
   "execution_count": 4,
   "id": "e33d6d01-d6fe-4bfe-bca6-f619852bd24c",
   "metadata": {},
   "outputs": [],
   "source": [
    "#Show dataframe dimensions\n",
    "def df_dimensions(df):\n",
    "    print('Number of Rows: {}'.format(df.shape[0]))\n",
    "    print('Number of Columns: {}'.format(df.shape[1]))\n",
    "    \n",
    "    return None"
   ]
  },
  {
   "cell_type": "code",
   "execution_count": 5,
   "id": "926eff7c-0470-422b-b7d9-007f924a44ae",
   "metadata": {},
   "outputs": [],
   "source": [
    "#Get numerical attributes\n",
    "def get_num(df):\n",
    "    return df.select_dtypes(include=['int64', 'float64'])"
   ]
  },
  {
   "cell_type": "code",
   "execution_count": 6,
   "id": "f67ba978-7cb3-43c2-a32b-e8926b8f96b8",
   "metadata": {},
   "outputs": [],
   "source": [
    "#Show first order statistics\n",
    "def get_stats(df):\n",
    "    # Central Tendency Metrics\n",
    "    mean = pd.DataFrame(df.apply(np.mean)).T\n",
    "    median = pd.DataFrame(df.apply(np.median)).T\n",
    "\n",
    "    # Dispersion Metrics\n",
    "    min_ = pd.DataFrame(df.apply(min)).T\n",
    "    max_ = pd.DataFrame(df.apply(max)).T\n",
    "    range_ = pd.DataFrame(df.apply(lambda x: x.max() - x.min())).T\n",
    "    std = pd.DataFrame(df.apply(np.std)).T\n",
    "    skew = pd.DataFrame(df.apply(lambda x: x.skew())).T\n",
    "    kurtosis = pd.DataFrame(df.apply(lambda x: x.kurtosis())).T\n",
    "\n",
    "    # Metrics Concatenation\n",
    "    m = pd.concat([min_, max_, range_, mean, median, std, skew, kurtosis]).T.reset_index()\n",
    "    m.columns = ['attributes', 'min', 'max', 'range', 'mean', 'median', 'std', 'skew', 'kurtosis']\n",
    "    \n",
    "    return m"
   ]
  },
  {
   "cell_type": "code",
   "execution_count": 7,
   "id": "2cfcb46b-5617-4ebb-953a-992d5d0219f5",
   "metadata": {},
   "outputs": [],
   "source": [
    "#Rename Columns\n",
    "def rename_cols(df):\n",
    "    df1 = df.copy()\n",
    "    \n",
    "    title = lambda x: inflection.titleize(x)\n",
    "    spaces = lambda x: x.replace(' ', '') \n",
    "    snakecase = lambda x: inflection.underscore(x)\n",
    "    \n",
    "    cols_old = list(df1.columns)\n",
    "    cols_old = list(map(title, cols_old))\n",
    "    cols_old = list(map(spaces, cols_old))\n",
    "    \n",
    "    cols_new = list(map(snakecase, cols_old))\n",
    "    \n",
    "    df1.columns = cols_new\n",
    "    \n",
    "    return df1"
   ]
  },
  {
   "cell_type": "code",
   "execution_count": 8,
   "id": "0801eb41-fe62-4643-8253-44b965acf2cd",
   "metadata": {},
   "outputs": [],
   "source": [
    "#Adjust country names\n",
    "def country_name(country_id):\n",
    "    return COUNTRIES[country_id]"
   ]
  },
  {
   "cell_type": "code",
   "execution_count": 9,
   "id": "c021d25b-a3e0-4d39-9596-f9f116627372",
   "metadata": {},
   "outputs": [],
   "source": [
    "#Adjust color names\n",
    "def color_name(color_code):\n",
    "    return COLORS[color_code]"
   ]
  },
  {
   "cell_type": "code",
   "execution_count": 10,
   "id": "87d00856-2d74-4117-8dd8-c34c3c4e57c7",
   "metadata": {},
   "outputs": [],
   "source": [
    "#Adjust price type\n",
    "def price_type(price_range):\n",
    "    if price_range == 1:\n",
    "        return 'Cheap'\n",
    "    elif price_range == 2:\n",
    "        return 'Normal'\n",
    "    elif price_range == 3:\n",
    "        return 'Expensive'\n",
    "    else:\n",
    "        return 'Gourmet'"
   ]
  },
  {
   "cell_type": "code",
   "execution_count": 11,
   "id": "3b69c91a-3b8f-4643-a5ee-9b3ec594e8c3",
   "metadata": {},
   "outputs": [],
   "source": [
    "#Adjust columns order\n",
    "def adjust_cols_order(df):\n",
    "    df1 = df.copy()\n",
    "\n",
    "    new_cols_order = [\n",
    "        'restaurant_id',\n",
    "        'restaurant_name',\n",
    "        'country',\n",
    "        'city',\n",
    "        'address',\n",
    "        'locality',\n",
    "        'locality_verbose',\n",
    "        'longitude',\n",
    "        'latitude',\n",
    "        'cuisines',\n",
    "        'price_type',\n",
    "        'average_cost_for_two',\n",
    "        'currency',\n",
    "        'has_table_booking',\n",
    "        'has_online_delivery',\n",
    "        'is_delivering_now',\n",
    "        'aggregate_rating',\n",
    "        'rating_color',\n",
    "        'color_name',\n",
    "        'rating_text',\n",
    "        'votes',\n",
    "    ]\n",
    "    \n",
    "    return df1.loc[:, new_cols_order]"
   ]
  },
  {
   "cell_type": "code",
   "execution_count": 12,
   "id": "b5c5b193-be89-4203-9375-a69a6a9947d4",
   "metadata": {},
   "outputs": [],
   "source": [
    "#Data processing\n",
    "def process_data(df):\n",
    "    df = df.dropna()\n",
    "\n",
    "    df = rename_cols(df)\n",
    "\n",
    "    df['price_type'] = df.loc[:, 'price_range'].apply(lambda x: price_type(x))\n",
    "\n",
    "    df['country'] = df.loc[:, 'country_code'].apply(lambda x: country_name(x))\n",
    "\n",
    "    df['color_name'] = df.loc[:, 'rating_color'].apply(lambda x: color_name(x))\n",
    "\n",
    "    df['cuisines'] = df.loc[:, 'cuisines'].apply(lambda x: x.split(',')[0])\n",
    "\n",
    "    df = df.drop_duplicates()\n",
    "\n",
    "    df = adjust_cols_order(df)\n",
    "\n",
    "    df.to_csv(\"base_restaurantes_tratada.csv\", index=False)\n",
    "\n",
    "    return df"
   ]
  },
  {
   "cell_type": "markdown",
   "id": "40f1f5cd",
   "metadata": {
    "ExecuteTime": {
     "end_time": "2023-03-25T01:45:10.964211Z",
     "start_time": "2023-03-25T01:45:10.431585Z"
    },
    "heading_collapsed": true,
    "id": "40f1f5cd"
   },
   "source": [
    "# 1.0. Data Description"
   ]
  },
  {
   "cell_type": "markdown",
   "id": "a44e7938",
   "metadata": {
    "heading_collapsed": true,
    "hidden": true,
    "id": "a44e7938"
   },
   "source": [
    "## 1.1. Loading Data"
   ]
  },
  {
   "cell_type": "code",
   "execution_count": 13,
   "id": "9d3310b9",
   "metadata": {
    "ExecuteTime": {
     "end_time": "2023-03-26T19:34:11.280067Z",
     "start_time": "2023-03-26T19:34:10.743042Z"
    },
    "executionInfo": {
     "elapsed": 6,
     "status": "ok",
     "timestamp": 1680882811197,
     "user": {
      "displayName": "Caio Michelan",
      "userId": "13984359377065576664"
     },
     "user_tz": 180
    },
    "hidden": true,
    "id": "9d3310b9"
   },
   "outputs": [
    {
     "data": {
      "text/html": [
       "<div>\n",
       "<style scoped>\n",
       "    .dataframe tbody tr th:only-of-type {\n",
       "        vertical-align: middle;\n",
       "    }\n",
       "\n",
       "    .dataframe tbody tr th {\n",
       "        vertical-align: top;\n",
       "    }\n",
       "\n",
       "    .dataframe thead th {\n",
       "        text-align: right;\n",
       "    }\n",
       "</style>\n",
       "<table border=\"1\" class=\"dataframe\">\n",
       "  <thead>\n",
       "    <tr style=\"text-align: right;\">\n",
       "      <th></th>\n",
       "      <th>Restaurant ID</th>\n",
       "      <th>Restaurant Name</th>\n",
       "      <th>Country Code</th>\n",
       "      <th>City</th>\n",
       "      <th>Address</th>\n",
       "      <th>Locality</th>\n",
       "      <th>Locality Verbose</th>\n",
       "      <th>Longitude</th>\n",
       "      <th>Latitude</th>\n",
       "      <th>Cuisines</th>\n",
       "      <th>...</th>\n",
       "      <th>Currency</th>\n",
       "      <th>Has Table booking</th>\n",
       "      <th>Has Online delivery</th>\n",
       "      <th>Is delivering now</th>\n",
       "      <th>Switch to order menu</th>\n",
       "      <th>Price range</th>\n",
       "      <th>Aggregate rating</th>\n",
       "      <th>Rating color</th>\n",
       "      <th>Rating text</th>\n",
       "      <th>Votes</th>\n",
       "    </tr>\n",
       "  </thead>\n",
       "  <tbody>\n",
       "    <tr>\n",
       "      <th>0</th>\n",
       "      <td>6310675</td>\n",
       "      <td>Mama Lou's Italian Kitchen</td>\n",
       "      <td>162</td>\n",
       "      <td>Las Piñas City</td>\n",
       "      <td>Block 1, Lot 36, Tropical Avenue Corner Tropic...</td>\n",
       "      <td>BF International</td>\n",
       "      <td>BF International, Las Piñas City</td>\n",
       "      <td>121.01</td>\n",
       "      <td>14.45</td>\n",
       "      <td>Italian</td>\n",
       "      <td>...</td>\n",
       "      <td>Botswana Pula(P)</td>\n",
       "      <td>1</td>\n",
       "      <td>0</td>\n",
       "      <td>0</td>\n",
       "      <td>0</td>\n",
       "      <td>3</td>\n",
       "      <td>4.60</td>\n",
       "      <td>3F7E00</td>\n",
       "      <td>Excellent</td>\n",
       "      <td>619</td>\n",
       "    </tr>\n",
       "    <tr>\n",
       "      <th>1</th>\n",
       "      <td>6310675</td>\n",
       "      <td>Mama Lou's Italian Kitchen</td>\n",
       "      <td>162</td>\n",
       "      <td>Las Piñas City</td>\n",
       "      <td>Block 1, Lot 36, Tropical Avenue Corner Tropic...</td>\n",
       "      <td>BF International</td>\n",
       "      <td>BF International, Las Piñas City</td>\n",
       "      <td>121.01</td>\n",
       "      <td>14.45</td>\n",
       "      <td>Italian</td>\n",
       "      <td>...</td>\n",
       "      <td>Botswana Pula(P)</td>\n",
       "      <td>1</td>\n",
       "      <td>0</td>\n",
       "      <td>0</td>\n",
       "      <td>0</td>\n",
       "      <td>3</td>\n",
       "      <td>4.60</td>\n",
       "      <td>3F7E00</td>\n",
       "      <td>Excellent</td>\n",
       "      <td>619</td>\n",
       "    </tr>\n",
       "    <tr>\n",
       "      <th>2</th>\n",
       "      <td>6314542</td>\n",
       "      <td>Blackbird</td>\n",
       "      <td>162</td>\n",
       "      <td>Makati City</td>\n",
       "      <td>Nielson Tower, Ayala Triangle Gardens, Salcedo...</td>\n",
       "      <td>Ayala Triangle Gardens, Salcedo Village, Makat...</td>\n",
       "      <td>Ayala Triangle Gardens, Salcedo Village, Makat...</td>\n",
       "      <td>121.02</td>\n",
       "      <td>14.56</td>\n",
       "      <td>European, Asian</td>\n",
       "      <td>...</td>\n",
       "      <td>Botswana Pula(P)</td>\n",
       "      <td>0</td>\n",
       "      <td>0</td>\n",
       "      <td>0</td>\n",
       "      <td>0</td>\n",
       "      <td>4</td>\n",
       "      <td>4.70</td>\n",
       "      <td>3F7E00</td>\n",
       "      <td>Excellent</td>\n",
       "      <td>469</td>\n",
       "    </tr>\n",
       "    <tr>\n",
       "      <th>3</th>\n",
       "      <td>6301293</td>\n",
       "      <td>Banapple</td>\n",
       "      <td>162</td>\n",
       "      <td>Makati City</td>\n",
       "      <td>Ayala Triangle Gardens, Salcedo Village, Makat...</td>\n",
       "      <td>Ayala Triangle Gardens, Salcedo Village, Makat...</td>\n",
       "      <td>Ayala Triangle Gardens, Salcedo Village, Makat...</td>\n",
       "      <td>121.02</td>\n",
       "      <td>14.56</td>\n",
       "      <td>Filipino, American, Italian, Bakery</td>\n",
       "      <td>...</td>\n",
       "      <td>Botswana Pula(P)</td>\n",
       "      <td>0</td>\n",
       "      <td>0</td>\n",
       "      <td>0</td>\n",
       "      <td>0</td>\n",
       "      <td>3</td>\n",
       "      <td>4.40</td>\n",
       "      <td>5BA829</td>\n",
       "      <td>Very Good</td>\n",
       "      <td>867</td>\n",
       "    </tr>\n",
       "    <tr>\n",
       "      <th>4</th>\n",
       "      <td>6315689</td>\n",
       "      <td>Bad Bird</td>\n",
       "      <td>162</td>\n",
       "      <td>Makati City</td>\n",
       "      <td>Hole In The Wall, Floor 4, Century City Mall, ...</td>\n",
       "      <td>Century City Mall, Poblacion, Makati City</td>\n",
       "      <td>Century City Mall, Poblacion, Makati City, Mak...</td>\n",
       "      <td>121.03</td>\n",
       "      <td>14.57</td>\n",
       "      <td>American</td>\n",
       "      <td>...</td>\n",
       "      <td>Botswana Pula(P)</td>\n",
       "      <td>0</td>\n",
       "      <td>0</td>\n",
       "      <td>0</td>\n",
       "      <td>0</td>\n",
       "      <td>3</td>\n",
       "      <td>4.40</td>\n",
       "      <td>5BA829</td>\n",
       "      <td>Very Good</td>\n",
       "      <td>858</td>\n",
       "    </tr>\n",
       "    <tr>\n",
       "      <th>...</th>\n",
       "      <td>...</td>\n",
       "      <td>...</td>\n",
       "      <td>...</td>\n",
       "      <td>...</td>\n",
       "      <td>...</td>\n",
       "      <td>...</td>\n",
       "      <td>...</td>\n",
       "      <td>...</td>\n",
       "      <td>...</td>\n",
       "      <td>...</td>\n",
       "      <td>...</td>\n",
       "      <td>...</td>\n",
       "      <td>...</td>\n",
       "      <td>...</td>\n",
       "      <td>...</td>\n",
       "      <td>...</td>\n",
       "      <td>...</td>\n",
       "      <td>...</td>\n",
       "      <td>...</td>\n",
       "      <td>...</td>\n",
       "      <td>...</td>\n",
       "    </tr>\n",
       "    <tr>\n",
       "      <th>7522</th>\n",
       "      <td>5912546</td>\n",
       "      <td>Eataly</td>\n",
       "      <td>208</td>\n",
       "      <td>İstanbul</td>\n",
       "      <td>Zorlu Center AVM, Köprü Katı, Levazım Mahalles...</td>\n",
       "      <td>Zorlu Center AVM, Levazım, Beşiktaş</td>\n",
       "      <td>Zorlu Center AVM, Levazım, Beşiktaş, İstanbul</td>\n",
       "      <td>29.02</td>\n",
       "      <td>41.07</td>\n",
       "      <td>Italian, Pizza, Fresh Fish</td>\n",
       "      <td>...</td>\n",
       "      <td>Turkish Lira(TL)</td>\n",
       "      <td>0</td>\n",
       "      <td>0</td>\n",
       "      <td>0</td>\n",
       "      <td>0</td>\n",
       "      <td>4</td>\n",
       "      <td>4.30</td>\n",
       "      <td>5BA829</td>\n",
       "      <td>Very Good</td>\n",
       "      <td>1367</td>\n",
       "    </tr>\n",
       "    <tr>\n",
       "      <th>7523</th>\n",
       "      <td>5913006</td>\n",
       "      <td>Tarihi Çınaraltı Aile Çay Bahçesi</td>\n",
       "      <td>208</td>\n",
       "      <td>İstanbul</td>\n",
       "      <td>Çengelköy Mahallesi, Çınaraltı Camii Sokak, No...</td>\n",
       "      <td>Çengelköy Merkez</td>\n",
       "      <td>Çengelköy Merkez, İstanbul</td>\n",
       "      <td>29.05</td>\n",
       "      <td>41.05</td>\n",
       "      <td>Fast Food, Izgara, Seafood, Tea, Coffee</td>\n",
       "      <td>...</td>\n",
       "      <td>Turkish Lira(TL)</td>\n",
       "      <td>0</td>\n",
       "      <td>0</td>\n",
       "      <td>0</td>\n",
       "      <td>0</td>\n",
       "      <td>2</td>\n",
       "      <td>4.50</td>\n",
       "      <td>3F7E00</td>\n",
       "      <td>Excellent</td>\n",
       "      <td>1172</td>\n",
       "    </tr>\n",
       "    <tr>\n",
       "      <th>7524</th>\n",
       "      <td>5923535</td>\n",
       "      <td>Boon Cafe &amp; Restaurant</td>\n",
       "      <td>208</td>\n",
       "      <td>İstanbul</td>\n",
       "      <td>Çengelköy Mahallesi, Çengelköy Caddesi, Kara S...</td>\n",
       "      <td>Çengelköy Merkez</td>\n",
       "      <td>Çengelköy Merkez, İstanbul</td>\n",
       "      <td>29.05</td>\n",
       "      <td>41.05</td>\n",
       "      <td>Restaurant Cafe</td>\n",
       "      <td>...</td>\n",
       "      <td>Turkish Lira(TL)</td>\n",
       "      <td>0</td>\n",
       "      <td>0</td>\n",
       "      <td>0</td>\n",
       "      <td>0</td>\n",
       "      <td>4</td>\n",
       "      <td>4.20</td>\n",
       "      <td>5BA829</td>\n",
       "      <td>Very Good</td>\n",
       "      <td>1160</td>\n",
       "    </tr>\n",
       "    <tr>\n",
       "      <th>7525</th>\n",
       "      <td>5914190</td>\n",
       "      <td>Kanaat Lokantası</td>\n",
       "      <td>208</td>\n",
       "      <td>İstanbul</td>\n",
       "      <td>Sultantepe Mahallesi, Selmani Pak Caddesi, No ...</td>\n",
       "      <td>Üsküdar Merkez</td>\n",
       "      <td>Üsküdar Merkez, İstanbul</td>\n",
       "      <td>29.02</td>\n",
       "      <td>41.03</td>\n",
       "      <td>Home-made, Izgara</td>\n",
       "      <td>...</td>\n",
       "      <td>Turkish Lira(TL)</td>\n",
       "      <td>0</td>\n",
       "      <td>0</td>\n",
       "      <td>0</td>\n",
       "      <td>0</td>\n",
       "      <td>3</td>\n",
       "      <td>4.00</td>\n",
       "      <td>5BA829</td>\n",
       "      <td>Very Good</td>\n",
       "      <td>770</td>\n",
       "    </tr>\n",
       "    <tr>\n",
       "      <th>7526</th>\n",
       "      <td>5913508</td>\n",
       "      <td>Katibim</td>\n",
       "      <td>208</td>\n",
       "      <td>İstanbul</td>\n",
       "      <td>Mimar Sinan Mahallesi, Harem Sahilyolu, No 53,...</td>\n",
       "      <td>Üsküdar Merkez</td>\n",
       "      <td>Üsküdar Merkez, İstanbul</td>\n",
       "      <td>29.01</td>\n",
       "      <td>41.03</td>\n",
       "      <td>Restaurant Cafe, Kebab, Turkish Pizza</td>\n",
       "      <td>...</td>\n",
       "      <td>Turkish Lira(TL)</td>\n",
       "      <td>0</td>\n",
       "      <td>0</td>\n",
       "      <td>0</td>\n",
       "      <td>0</td>\n",
       "      <td>4</td>\n",
       "      <td>4.20</td>\n",
       "      <td>5BA829</td>\n",
       "      <td>Very Good</td>\n",
       "      <td>1141</td>\n",
       "    </tr>\n",
       "  </tbody>\n",
       "</table>\n",
       "<p>7527 rows × 21 columns</p>\n",
       "</div>"
      ],
      "text/plain": [
       "      Restaurant ID                    Restaurant Name  Country Code  \\\n",
       "0           6310675         Mama Lou's Italian Kitchen           162   \n",
       "1           6310675         Mama Lou's Italian Kitchen           162   \n",
       "2           6314542                          Blackbird           162   \n",
       "3           6301293                           Banapple           162   \n",
       "4           6315689                           Bad Bird           162   \n",
       "...             ...                                ...           ...   \n",
       "7522        5912546                             Eataly           208   \n",
       "7523        5913006  Tarihi Çınaraltı Aile Çay Bahçesi           208   \n",
       "7524        5923535             Boon Cafe & Restaurant           208   \n",
       "7525        5914190                   Kanaat Lokantası           208   \n",
       "7526        5913508                            Katibim           208   \n",
       "\n",
       "                City                                            Address  \\\n",
       "0     Las Piñas City  Block 1, Lot 36, Tropical Avenue Corner Tropic...   \n",
       "1     Las Piñas City  Block 1, Lot 36, Tropical Avenue Corner Tropic...   \n",
       "2        Makati City  Nielson Tower, Ayala Triangle Gardens, Salcedo...   \n",
       "3        Makati City  Ayala Triangle Gardens, Salcedo Village, Makat...   \n",
       "4        Makati City  Hole In The Wall, Floor 4, Century City Mall, ...   \n",
       "...              ...                                                ...   \n",
       "7522        İstanbul  Zorlu Center AVM, Köprü Katı, Levazım Mahalles...   \n",
       "7523        İstanbul  Çengelköy Mahallesi, Çınaraltı Camii Sokak, No...   \n",
       "7524        İstanbul  Çengelköy Mahallesi, Çengelköy Caddesi, Kara S...   \n",
       "7525        İstanbul  Sultantepe Mahallesi, Selmani Pak Caddesi, No ...   \n",
       "7526        İstanbul  Mimar Sinan Mahallesi, Harem Sahilyolu, No 53,...   \n",
       "\n",
       "                                               Locality  \\\n",
       "0                                      BF International   \n",
       "1                                      BF International   \n",
       "2     Ayala Triangle Gardens, Salcedo Village, Makat...   \n",
       "3     Ayala Triangle Gardens, Salcedo Village, Makat...   \n",
       "4             Century City Mall, Poblacion, Makati City   \n",
       "...                                                 ...   \n",
       "7522                Zorlu Center AVM, Levazım, Beşiktaş   \n",
       "7523                                   Çengelköy Merkez   \n",
       "7524                                   Çengelköy Merkez   \n",
       "7525                                     Üsküdar Merkez   \n",
       "7526                                     Üsküdar Merkez   \n",
       "\n",
       "                                       Locality Verbose  Longitude  Latitude  \\\n",
       "0                      BF International, Las Piñas City     121.01     14.45   \n",
       "1                      BF International, Las Piñas City     121.01     14.45   \n",
       "2     Ayala Triangle Gardens, Salcedo Village, Makat...     121.02     14.56   \n",
       "3     Ayala Triangle Gardens, Salcedo Village, Makat...     121.02     14.56   \n",
       "4     Century City Mall, Poblacion, Makati City, Mak...     121.03     14.57   \n",
       "...                                                 ...        ...       ...   \n",
       "7522      Zorlu Center AVM, Levazım, Beşiktaş, İstanbul      29.02     41.07   \n",
       "7523                         Çengelköy Merkez, İstanbul      29.05     41.05   \n",
       "7524                         Çengelköy Merkez, İstanbul      29.05     41.05   \n",
       "7525                           Üsküdar Merkez, İstanbul      29.02     41.03   \n",
       "7526                           Üsküdar Merkez, İstanbul      29.01     41.03   \n",
       "\n",
       "                                     Cuisines  ...          Currency  \\\n",
       "0                                     Italian  ...  Botswana Pula(P)   \n",
       "1                                     Italian  ...  Botswana Pula(P)   \n",
       "2                             European, Asian  ...  Botswana Pula(P)   \n",
       "3         Filipino, American, Italian, Bakery  ...  Botswana Pula(P)   \n",
       "4                                    American  ...  Botswana Pula(P)   \n",
       "...                                       ...  ...               ...   \n",
       "7522               Italian, Pizza, Fresh Fish  ...  Turkish Lira(TL)   \n",
       "7523  Fast Food, Izgara, Seafood, Tea, Coffee  ...  Turkish Lira(TL)   \n",
       "7524                          Restaurant Cafe  ...  Turkish Lira(TL)   \n",
       "7525                        Home-made, Izgara  ...  Turkish Lira(TL)   \n",
       "7526    Restaurant Cafe, Kebab, Turkish Pizza  ...  Turkish Lira(TL)   \n",
       "\n",
       "     Has Table booking  Has Online delivery  Is delivering now  \\\n",
       "0                    1                    0                  0   \n",
       "1                    1                    0                  0   \n",
       "2                    0                    0                  0   \n",
       "3                    0                    0                  0   \n",
       "4                    0                    0                  0   \n",
       "...                ...                  ...                ...   \n",
       "7522                 0                    0                  0   \n",
       "7523                 0                    0                  0   \n",
       "7524                 0                    0                  0   \n",
       "7525                 0                    0                  0   \n",
       "7526                 0                    0                  0   \n",
       "\n",
       "      Switch to order menu  Price range  Aggregate rating  Rating color  \\\n",
       "0                        0            3              4.60        3F7E00   \n",
       "1                        0            3              4.60        3F7E00   \n",
       "2                        0            4              4.70        3F7E00   \n",
       "3                        0            3              4.40        5BA829   \n",
       "4                        0            3              4.40        5BA829   \n",
       "...                    ...          ...               ...           ...   \n",
       "7522                     0            4              4.30        5BA829   \n",
       "7523                     0            2              4.50        3F7E00   \n",
       "7524                     0            4              4.20        5BA829   \n",
       "7525                     0            3              4.00        5BA829   \n",
       "7526                     0            4              4.20        5BA829   \n",
       "\n",
       "     Rating text Votes  \n",
       "0      Excellent   619  \n",
       "1      Excellent   619  \n",
       "2      Excellent   469  \n",
       "3      Very Good   867  \n",
       "4      Very Good   858  \n",
       "...          ...   ...  \n",
       "7522   Very Good  1367  \n",
       "7523   Excellent  1172  \n",
       "7524   Very Good  1160  \n",
       "7525   Very Good   770  \n",
       "7526   Very Good  1141  \n",
       "\n",
       "[7527 rows x 21 columns]"
      ]
     },
     "execution_count": 13,
     "metadata": {},
     "output_type": "execute_result"
    }
   ],
   "source": [
    "#Import data\n",
    "df = pd.read_csv('base_restaurantes.csv')\n",
    "df"
   ]
  },
  {
   "cell_type": "markdown",
   "id": "3f7412f4-8fc3-41cb-8c23-2ad3dd834e68",
   "metadata": {},
   "source": [
    "## 1.2. Columns Description"
   ]
  },
  {
   "cell_type": "raw",
   "id": "aeb069e8-f587-4487-99fd-e71b0c433d10",
   "metadata": {},
   "source": [
    "Restaurant ID\tID do restaurante\n",
    "Restaurant Name\tNome do Restaurante\n",
    "Country Code\tCódigo do País\n",
    "City\tNome da Cidade onde o restaurante está\n",
    "Address\tEndereço do restaurante\n",
    "Locality\tLocalização e pontos de referência do restaurante\n",
    "Locality Verbose\tLocalização e pontos de referência do restaurante (Mais informações)\n",
    "Longitude\tPonto geográfico de Longitude do Restaurante\n",
    "Latitude\tPonto geográfico de Latitude do Restaurante\n",
    "Cuisines\tTipos de Culinária servidos no restaurante\n",
    "Average Cost for two\tPreço Médio de um prato para duas pessoas no restaurante\n",
    "Currency\tMoeda do país\n",
    "Has Table booking\tSe o restaurante possui serviços de reserva; 1 - Sim; 0 - Não\n",
    "Has Online delivery\tSe o restaurante possui serviços de pedido on-line; 1 - Sim; 0 - Não\n",
    "Is delivering now\tSe o restaurante faz entregas; 1 - Sim; 0 - Não\n",
    "Switch to order menu\t-\n",
    "Price range\tVariação de preços do restaurante; 1 a 4 - Quanto maior o valor, mais caro serão os pratos\n",
    "Aggregate rating\tNota média do restaurante\n",
    "Rating color\tCódigo Hexadecimal da cor do restaurante com base em sua nota média\n",
    "Rating text\tCategoria em que o restaurante está com base em sua nota média\n",
    "Votes\tQuantidade de avaliações que o restaurante já recebeu"
   ]
  },
  {
   "cell_type": "markdown",
   "id": "fc0a7f9f",
   "metadata": {
    "heading_collapsed": true,
    "hidden": true,
    "id": "fc0a7f9f"
   },
   "source": [
    "## 1.2.1. Rename Columns"
   ]
  },
  {
   "cell_type": "code",
   "execution_count": 14,
   "id": "6dddcb84-a960-4ef8-b83a-2a1d2f890eab",
   "metadata": {
    "executionInfo": {
     "elapsed": 13,
     "status": "ok",
     "timestamp": 1680882829405,
     "user": {
      "displayName": "Caio Michelan",
      "userId": "13984359377065576664"
     },
     "user_tz": 180
    },
    "id": "6dddcb84-a960-4ef8-b83a-2a1d2f890eab"
   },
   "outputs": [
    {
     "data": {
      "text/html": [
       "<div>\n",
       "<style scoped>\n",
       "    .dataframe tbody tr th:only-of-type {\n",
       "        vertical-align: middle;\n",
       "    }\n",
       "\n",
       "    .dataframe tbody tr th {\n",
       "        vertical-align: top;\n",
       "    }\n",
       "\n",
       "    .dataframe thead th {\n",
       "        text-align: right;\n",
       "    }\n",
       "</style>\n",
       "<table border=\"1\" class=\"dataframe\">\n",
       "  <thead>\n",
       "    <tr style=\"text-align: right;\">\n",
       "      <th></th>\n",
       "      <th>restaurant_id</th>\n",
       "      <th>restaurant_name</th>\n",
       "      <th>country_code</th>\n",
       "      <th>city</th>\n",
       "      <th>address</th>\n",
       "      <th>locality</th>\n",
       "      <th>locality_verbose</th>\n",
       "      <th>longitude</th>\n",
       "      <th>latitude</th>\n",
       "      <th>cuisines</th>\n",
       "      <th>...</th>\n",
       "      <th>currency</th>\n",
       "      <th>has_table_booking</th>\n",
       "      <th>has_online_delivery</th>\n",
       "      <th>is_delivering_now</th>\n",
       "      <th>switch_to_order_menu</th>\n",
       "      <th>price_range</th>\n",
       "      <th>aggregate_rating</th>\n",
       "      <th>rating_color</th>\n",
       "      <th>rating_text</th>\n",
       "      <th>votes</th>\n",
       "    </tr>\n",
       "  </thead>\n",
       "  <tbody>\n",
       "    <tr>\n",
       "      <th>0</th>\n",
       "      <td>6310675</td>\n",
       "      <td>Mama Lou's Italian Kitchen</td>\n",
       "      <td>162</td>\n",
       "      <td>Las Piñas City</td>\n",
       "      <td>Block 1, Lot 36, Tropical Avenue Corner Tropic...</td>\n",
       "      <td>BF International</td>\n",
       "      <td>BF International, Las Piñas City</td>\n",
       "      <td>121.01</td>\n",
       "      <td>14.45</td>\n",
       "      <td>Italian</td>\n",
       "      <td>...</td>\n",
       "      <td>Botswana Pula(P)</td>\n",
       "      <td>1</td>\n",
       "      <td>0</td>\n",
       "      <td>0</td>\n",
       "      <td>0</td>\n",
       "      <td>3</td>\n",
       "      <td>4.60</td>\n",
       "      <td>3F7E00</td>\n",
       "      <td>Excellent</td>\n",
       "      <td>619</td>\n",
       "    </tr>\n",
       "    <tr>\n",
       "      <th>1</th>\n",
       "      <td>6310675</td>\n",
       "      <td>Mama Lou's Italian Kitchen</td>\n",
       "      <td>162</td>\n",
       "      <td>Las Piñas City</td>\n",
       "      <td>Block 1, Lot 36, Tropical Avenue Corner Tropic...</td>\n",
       "      <td>BF International</td>\n",
       "      <td>BF International, Las Piñas City</td>\n",
       "      <td>121.01</td>\n",
       "      <td>14.45</td>\n",
       "      <td>Italian</td>\n",
       "      <td>...</td>\n",
       "      <td>Botswana Pula(P)</td>\n",
       "      <td>1</td>\n",
       "      <td>0</td>\n",
       "      <td>0</td>\n",
       "      <td>0</td>\n",
       "      <td>3</td>\n",
       "      <td>4.60</td>\n",
       "      <td>3F7E00</td>\n",
       "      <td>Excellent</td>\n",
       "      <td>619</td>\n",
       "    </tr>\n",
       "    <tr>\n",
       "      <th>2</th>\n",
       "      <td>6314542</td>\n",
       "      <td>Blackbird</td>\n",
       "      <td>162</td>\n",
       "      <td>Makati City</td>\n",
       "      <td>Nielson Tower, Ayala Triangle Gardens, Salcedo...</td>\n",
       "      <td>Ayala Triangle Gardens, Salcedo Village, Makat...</td>\n",
       "      <td>Ayala Triangle Gardens, Salcedo Village, Makat...</td>\n",
       "      <td>121.02</td>\n",
       "      <td>14.56</td>\n",
       "      <td>European, Asian</td>\n",
       "      <td>...</td>\n",
       "      <td>Botswana Pula(P)</td>\n",
       "      <td>0</td>\n",
       "      <td>0</td>\n",
       "      <td>0</td>\n",
       "      <td>0</td>\n",
       "      <td>4</td>\n",
       "      <td>4.70</td>\n",
       "      <td>3F7E00</td>\n",
       "      <td>Excellent</td>\n",
       "      <td>469</td>\n",
       "    </tr>\n",
       "    <tr>\n",
       "      <th>3</th>\n",
       "      <td>6301293</td>\n",
       "      <td>Banapple</td>\n",
       "      <td>162</td>\n",
       "      <td>Makati City</td>\n",
       "      <td>Ayala Triangle Gardens, Salcedo Village, Makat...</td>\n",
       "      <td>Ayala Triangle Gardens, Salcedo Village, Makat...</td>\n",
       "      <td>Ayala Triangle Gardens, Salcedo Village, Makat...</td>\n",
       "      <td>121.02</td>\n",
       "      <td>14.56</td>\n",
       "      <td>Filipino, American, Italian, Bakery</td>\n",
       "      <td>...</td>\n",
       "      <td>Botswana Pula(P)</td>\n",
       "      <td>0</td>\n",
       "      <td>0</td>\n",
       "      <td>0</td>\n",
       "      <td>0</td>\n",
       "      <td>3</td>\n",
       "      <td>4.40</td>\n",
       "      <td>5BA829</td>\n",
       "      <td>Very Good</td>\n",
       "      <td>867</td>\n",
       "    </tr>\n",
       "    <tr>\n",
       "      <th>4</th>\n",
       "      <td>6315689</td>\n",
       "      <td>Bad Bird</td>\n",
       "      <td>162</td>\n",
       "      <td>Makati City</td>\n",
       "      <td>Hole In The Wall, Floor 4, Century City Mall, ...</td>\n",
       "      <td>Century City Mall, Poblacion, Makati City</td>\n",
       "      <td>Century City Mall, Poblacion, Makati City, Mak...</td>\n",
       "      <td>121.03</td>\n",
       "      <td>14.57</td>\n",
       "      <td>American</td>\n",
       "      <td>...</td>\n",
       "      <td>Botswana Pula(P)</td>\n",
       "      <td>0</td>\n",
       "      <td>0</td>\n",
       "      <td>0</td>\n",
       "      <td>0</td>\n",
       "      <td>3</td>\n",
       "      <td>4.40</td>\n",
       "      <td>5BA829</td>\n",
       "      <td>Very Good</td>\n",
       "      <td>858</td>\n",
       "    </tr>\n",
       "  </tbody>\n",
       "</table>\n",
       "<p>5 rows × 21 columns</p>\n",
       "</div>"
      ],
      "text/plain": [
       "   restaurant_id             restaurant_name  country_code            city  \\\n",
       "0        6310675  Mama Lou's Italian Kitchen           162  Las Piñas City   \n",
       "1        6310675  Mama Lou's Italian Kitchen           162  Las Piñas City   \n",
       "2        6314542                   Blackbird           162     Makati City   \n",
       "3        6301293                    Banapple           162     Makati City   \n",
       "4        6315689                    Bad Bird           162     Makati City   \n",
       "\n",
       "                                             address  \\\n",
       "0  Block 1, Lot 36, Tropical Avenue Corner Tropic...   \n",
       "1  Block 1, Lot 36, Tropical Avenue Corner Tropic...   \n",
       "2  Nielson Tower, Ayala Triangle Gardens, Salcedo...   \n",
       "3  Ayala Triangle Gardens, Salcedo Village, Makat...   \n",
       "4  Hole In The Wall, Floor 4, Century City Mall, ...   \n",
       "\n",
       "                                            locality  \\\n",
       "0                                   BF International   \n",
       "1                                   BF International   \n",
       "2  Ayala Triangle Gardens, Salcedo Village, Makat...   \n",
       "3  Ayala Triangle Gardens, Salcedo Village, Makat...   \n",
       "4          Century City Mall, Poblacion, Makati City   \n",
       "\n",
       "                                    locality_verbose  longitude  latitude  \\\n",
       "0                   BF International, Las Piñas City     121.01     14.45   \n",
       "1                   BF International, Las Piñas City     121.01     14.45   \n",
       "2  Ayala Triangle Gardens, Salcedo Village, Makat...     121.02     14.56   \n",
       "3  Ayala Triangle Gardens, Salcedo Village, Makat...     121.02     14.56   \n",
       "4  Century City Mall, Poblacion, Makati City, Mak...     121.03     14.57   \n",
       "\n",
       "                              cuisines  ...          currency  \\\n",
       "0                              Italian  ...  Botswana Pula(P)   \n",
       "1                              Italian  ...  Botswana Pula(P)   \n",
       "2                      European, Asian  ...  Botswana Pula(P)   \n",
       "3  Filipino, American, Italian, Bakery  ...  Botswana Pula(P)   \n",
       "4                             American  ...  Botswana Pula(P)   \n",
       "\n",
       "  has_table_booking  has_online_delivery  is_delivering_now  \\\n",
       "0                 1                    0                  0   \n",
       "1                 1                    0                  0   \n",
       "2                 0                    0                  0   \n",
       "3                 0                    0                  0   \n",
       "4                 0                    0                  0   \n",
       "\n",
       "   switch_to_order_menu  price_range  aggregate_rating  rating_color  \\\n",
       "0                     0            3              4.60        3F7E00   \n",
       "1                     0            3              4.60        3F7E00   \n",
       "2                     0            4              4.70        3F7E00   \n",
       "3                     0            3              4.40        5BA829   \n",
       "4                     0            3              4.40        5BA829   \n",
       "\n",
       "  rating_text votes  \n",
       "0   Excellent   619  \n",
       "1   Excellent   619  \n",
       "2   Excellent   469  \n",
       "3   Very Good   867  \n",
       "4   Very Good   858  \n",
       "\n",
       "[5 rows x 21 columns]"
      ]
     },
     "execution_count": 14,
     "metadata": {},
     "output_type": "execute_result"
    }
   ],
   "source": [
    "#Test Function Rename columns\n",
    "df1 = rename_cols(df)\n",
    "df1.head()"
   ]
  },
  {
   "cell_type": "markdown",
   "id": "d4e724b0",
   "metadata": {
    "heading_collapsed": true,
    "hidden": true,
    "id": "d4e724b0",
    "tags": []
   },
   "source": [
    "## 1.3. Data Dimensions"
   ]
  },
  {
   "cell_type": "code",
   "execution_count": 15,
   "id": "8b135b2f",
   "metadata": {
    "ExecuteTime": {
     "end_time": "2023-03-26T19:34:11.625493Z",
     "start_time": "2023-03-26T19:34:11.464153Z"
    },
    "executionInfo": {
     "elapsed": 382,
     "status": "ok",
     "timestamp": 1680882836026,
     "user": {
      "displayName": "Caio Michelan",
      "userId": "13984359377065576664"
     },
     "user_tz": 180
    },
    "hidden": true,
    "id": "8b135b2f"
   },
   "outputs": [
    {
     "name": "stdout",
     "output_type": "stream",
     "text": [
      "Number of Rows: 7527\n",
      "Number of Columns: 21\n"
     ]
    }
   ],
   "source": [
    "#Check number of rows and columns of the dataframe\n",
    "df_dimensions(df1)"
   ]
  },
  {
   "cell_type": "markdown",
   "id": "292ec09b",
   "metadata": {
    "heading_collapsed": true,
    "hidden": true,
    "id": "292ec09b"
   },
   "source": [
    "## 1.4. Check NA"
   ]
  },
  {
   "cell_type": "code",
   "execution_count": 16,
   "id": "2cf7ddae",
   "metadata": {
    "ExecuteTime": {
     "end_time": "2023-03-26T19:34:11.860864Z",
     "start_time": "2023-03-26T19:34:11.629492Z"
    },
    "executionInfo": {
     "elapsed": 264,
     "status": "ok",
     "timestamp": 1680882842622,
     "user": {
      "displayName": "Caio Michelan",
      "userId": "13984359377065576664"
     },
     "user_tz": 180
    },
    "hidden": true,
    "id": "2cf7ddae"
   },
   "outputs": [
    {
     "data": {
      "text/plain": [
       "restaurant_id            0\n",
       "restaurant_name          0\n",
       "country_code             0\n",
       "city                     0\n",
       "address                  0\n",
       "locality                 0\n",
       "locality_verbose         0\n",
       "longitude                0\n",
       "latitude                 0\n",
       "cuisines                15\n",
       "average_cost_for_two     0\n",
       "currency                 0\n",
       "has_table_booking        0\n",
       "has_online_delivery      0\n",
       "is_delivering_now        0\n",
       "switch_to_order_menu     0\n",
       "price_range              0\n",
       "aggregate_rating         0\n",
       "rating_color             0\n",
       "rating_text              0\n",
       "votes                    0\n",
       "dtype: int64"
      ]
     },
     "execution_count": 16,
     "metadata": {},
     "output_type": "execute_result"
    }
   ],
   "source": [
    "#Check of NA's values os de dataframe\n",
    "df1.isna().sum()"
   ]
  },
  {
   "cell_type": "markdown",
   "id": "9d4a1ffc",
   "metadata": {
    "hidden": true,
    "id": "9d4a1ffc"
   },
   "source": [
    "### 1.4.1. Drop / Replace NA's"
   ]
  },
  {
   "cell_type": "code",
   "execution_count": 17,
   "id": "e84b84df",
   "metadata": {
    "ExecuteTime": {
     "end_time": "2023-03-26T19:34:12.038246Z",
     "start_time": "2023-03-26T19:34:11.865022Z"
    },
    "executionInfo": {
     "elapsed": 5,
     "status": "ok",
     "timestamp": 1680882863528,
     "user": {
      "displayName": "Caio Michelan",
      "userId": "13984359377065576664"
     },
     "user_tz": 180
    },
    "hidden": true,
    "id": "e84b84df"
   },
   "outputs": [
    {
     "data": {
      "text/plain": [
       "restaurant_id           0\n",
       "restaurant_name         0\n",
       "country_code            0\n",
       "city                    0\n",
       "address                 0\n",
       "locality                0\n",
       "locality_verbose        0\n",
       "longitude               0\n",
       "latitude                0\n",
       "cuisines                0\n",
       "average_cost_for_two    0\n",
       "currency                0\n",
       "has_table_booking       0\n",
       "has_online_delivery     0\n",
       "is_delivering_now       0\n",
       "switch_to_order_menu    0\n",
       "price_range             0\n",
       "aggregate_rating        0\n",
       "rating_color            0\n",
       "rating_text             0\n",
       "votes                   0\n",
       "dtype: int64"
      ]
     },
     "execution_count": 17,
     "metadata": {},
     "output_type": "execute_result"
    }
   ],
   "source": [
    "#Drop / Replace NA's from dataframe\n",
    "df1 = df1.dropna()\n",
    "df1.isna().sum()"
   ]
  },
  {
   "cell_type": "markdown",
   "id": "4682fcd5",
   "metadata": {
    "heading_collapsed": true,
    "hidden": true,
    "id": "4682fcd5"
   },
   "source": [
    "## 1.5. Data Dtypes"
   ]
  },
  {
   "cell_type": "code",
   "execution_count": 18,
   "id": "abdcd99b",
   "metadata": {
    "ExecuteTime": {
     "end_time": "2023-03-26T19:34:12.175001Z",
     "start_time": "2023-03-26T19:34:12.051111Z"
    },
    "executionInfo": {
     "elapsed": 7,
     "status": "ok",
     "timestamp": 1680882877311,
     "user": {
      "displayName": "Caio Michelan",
      "userId": "13984359377065576664"
     },
     "user_tz": 180
    },
    "hidden": true,
    "id": "abdcd99b"
   },
   "outputs": [
    {
     "data": {
      "text/plain": [
       "restaurant_id             int64\n",
       "restaurant_name          object\n",
       "country_code              int64\n",
       "city                     object\n",
       "address                  object\n",
       "locality                 object\n",
       "locality_verbose         object\n",
       "longitude               float64\n",
       "latitude                float64\n",
       "cuisines                 object\n",
       "average_cost_for_two      int64\n",
       "currency                 object\n",
       "has_table_booking         int64\n",
       "has_online_delivery       int64\n",
       "is_delivering_now         int64\n",
       "switch_to_order_menu      int64\n",
       "price_range               int64\n",
       "aggregate_rating        float64\n",
       "rating_color             object\n",
       "rating_text              object\n",
       "votes                     int64\n",
       "dtype: object"
      ]
     },
     "execution_count": 18,
     "metadata": {},
     "output_type": "execute_result"
    }
   ],
   "source": [
    "#Checking data types\n",
    "df1.dtypes"
   ]
  },
  {
   "cell_type": "markdown",
   "id": "9729dd5a",
   "metadata": {
    "heading_collapsed": true,
    "hidden": true,
    "id": "9729dd5a"
   },
   "source": [
    "## 1.6. Data Balancing"
   ]
  },
  {
   "cell_type": "code",
   "execution_count": 19,
   "id": "8f61ac3b",
   "metadata": {
    "ExecuteTime": {
     "end_time": "2023-03-26T19:34:12.369195Z",
     "start_time": "2023-03-26T19:34:12.259182Z"
    },
    "executionInfo": {
     "elapsed": 913,
     "status": "ok",
     "timestamp": 1680882890840,
     "user": {
      "displayName": "Caio Michelan",
      "userId": "13984359377065576664"
     },
     "user_tz": 180
    },
    "hidden": true,
    "id": "8f61ac3b"
   },
   "outputs": [
    {
     "data": {
      "text/plain": [
       "1     0.47\n",
       "216   0.19\n",
       "215   0.06\n",
       "189   0.05\n",
       "214   0.04\n",
       "30    0.03\n",
       "148   0.03\n",
       "14    0.02\n",
       "37    0.02\n",
       "208   0.02\n",
       "166   0.01\n",
       "162   0.01\n",
       "191   0.01\n",
       "184   0.01\n",
       "94    0.01\n",
       "Name: country_code, dtype: float64"
      ]
     },
     "execution_count": 19,
     "metadata": {},
     "output_type": "execute_result"
    }
   ],
   "source": [
    "#Checking test data balance\n",
    "df1['country_code'].value_counts(normalize=True)"
   ]
  },
  {
   "cell_type": "code",
   "execution_count": 20,
   "id": "35673c07-2aed-4d6b-bd6b-83febac834d1",
   "metadata": {},
   "outputs": [
    {
     "data": {
      "text/plain": [
       "{1: 'India',\n",
       " 14: 'Australia',\n",
       " 30: 'Brazil',\n",
       " 37: 'Canada',\n",
       " 94: 'Indonesia',\n",
       " 148: 'New Zeland',\n",
       " 162: 'Philippines',\n",
       " 166: 'Qatar',\n",
       " 184: 'Singapure',\n",
       " 189: 'South Africa',\n",
       " 191: 'Sri Lanka',\n",
       " 208: 'Turkey',\n",
       " 214: 'United Arab Emirates',\n",
       " 215: 'England',\n",
       " 216: 'United States of America'}"
      ]
     },
     "execution_count": 20,
     "metadata": {},
     "output_type": "execute_result"
    }
   ],
   "source": [
    "COUNTRIES"
   ]
  },
  {
   "cell_type": "markdown",
   "id": "a4e60ff0",
   "metadata": {
    "heading_collapsed": true,
    "hidden": true,
    "id": "a4e60ff0",
    "tags": []
   },
   "source": [
    "## 1.7. Pandas Profiling"
   ]
  },
  {
   "cell_type": "code",
   "execution_count": 21,
   "id": "1d1e4c82",
   "metadata": {
    "ExecuteTime": {
     "end_time": "2023-03-26T19:34:12.554371Z",
     "start_time": "2023-03-26T19:34:12.372668Z"
    },
    "hidden": true,
    "id": "1d1e4c82"
   },
   "outputs": [
    {
     "data": {
      "application/vnd.jupyter.widget-view+json": {
       "model_id": "eec1db2a84b94454be5918089f028629",
       "version_major": 2,
       "version_minor": 0
      },
      "text/plain": [
       "Summarize dataset:   0%|          | 0/5 [00:00<?, ?it/s]"
      ]
     },
     "metadata": {},
     "output_type": "display_data"
    },
    {
     "data": {
      "application/vnd.jupyter.widget-view+json": {
       "model_id": "036ce383478f4a6093c5f2fd01c26249",
       "version_major": 2,
       "version_minor": 0
      },
      "text/plain": [
       "Generate report structure:   0%|          | 0/1 [00:00<?, ?it/s]"
      ]
     },
     "metadata": {},
     "output_type": "display_data"
    },
    {
     "data": {
      "application/vnd.jupyter.widget-view+json": {
       "model_id": "caeda3ac895c4062910494863b9fa8de",
       "version_major": 2,
       "version_minor": 0
      },
      "text/plain": [
       "Render HTML:   0%|          | 0/1 [00:00<?, ?it/s]"
      ]
     },
     "metadata": {},
     "output_type": "display_data"
    },
    {
     "data": {
      "application/vnd.jupyter.widget-view+json": {
       "model_id": "cbbf0721b04641a6acffebb79dbd8af8",
       "version_major": 2,
       "version_minor": 0
      },
      "text/plain": [
       "Export report to file:   0%|          | 0/1 [00:00<?, ?it/s]"
      ]
     },
     "metadata": {},
     "output_type": "display_data"
    }
   ],
   "source": [
    "#Report for External Data Analysis\n",
    "prof_report = ProfileReport(df1)\n",
    "prof_report.to_file(output_file='Profile_Report.html')"
   ]
  },
  {
   "cell_type": "markdown",
   "id": "846dee80-bed3-44ea-b75e-8c2580345f9b",
   "metadata": {},
   "source": [
    "## 1.8. Sweet Viz Report"
   ]
  },
  {
   "cell_type": "code",
   "execution_count": 22,
   "id": "98b55783-e49a-4c9c-a52c-940e530ef9ec",
   "metadata": {},
   "outputs": [
    {
     "data": {
      "application/vnd.jupyter.widget-view+json": {
       "model_id": "fc1e5707f39940eea26cd79e87b8e907",
       "version_major": 2,
       "version_minor": 0
      },
      "text/plain": [
       "                                             |          | [  0%]   00:00 -> (? left)"
      ]
     },
     "metadata": {},
     "output_type": "display_data"
    },
    {
     "name": "stdout",
     "output_type": "stream",
     "text": [
      "Report SweetViz_Report.html was generated! NOTEBOOK/COLAB USERS: the web browser MAY not pop up, regardless, the report IS saved in your notebook/colab files.\n"
     ]
    }
   ],
   "source": [
    "#Report for External Data Analysis\n",
    "viz = sv.analyze(df1)\n",
    "viz.show_html(filepath='SweetViz_Report.html')"
   ]
  },
  {
   "cell_type": "markdown",
   "id": "91a56888-033c-4834-bdd9-f60f64b50443",
   "metadata": {},
   "source": [
    "## 1.9 Statistics"
   ]
  },
  {
   "cell_type": "code",
   "execution_count": 23,
   "id": "31121daa-240d-4ead-944d-470b571db1d0",
   "metadata": {},
   "outputs": [
    {
     "data": {
      "text/html": [
       "<div>\n",
       "<style scoped>\n",
       "    .dataframe tbody tr th:only-of-type {\n",
       "        vertical-align: middle;\n",
       "    }\n",
       "\n",
       "    .dataframe tbody tr th {\n",
       "        vertical-align: top;\n",
       "    }\n",
       "\n",
       "    .dataframe thead th {\n",
       "        text-align: right;\n",
       "    }\n",
       "</style>\n",
       "<table border=\"1\" class=\"dataframe\">\n",
       "  <thead>\n",
       "    <tr style=\"text-align: right;\">\n",
       "      <th></th>\n",
       "      <th>attributes</th>\n",
       "      <th>min</th>\n",
       "      <th>max</th>\n",
       "      <th>range</th>\n",
       "      <th>mean</th>\n",
       "      <th>median</th>\n",
       "      <th>std</th>\n",
       "      <th>skew</th>\n",
       "      <th>kurtosis</th>\n",
       "    </tr>\n",
       "  </thead>\n",
       "  <tbody>\n",
       "    <tr>\n",
       "      <th>0</th>\n",
       "      <td>restaurant_id</td>\n",
       "      <td>549.00</td>\n",
       "      <td>19040277.00</td>\n",
       "      <td>19039728.00</td>\n",
       "      <td>10543268.35</td>\n",
       "      <td>7701329.00</td>\n",
       "      <td>7075016.83</td>\n",
       "      <td>-0.08</td>\n",
       "      <td>-1.73</td>\n",
       "    </tr>\n",
       "    <tr>\n",
       "      <th>1</th>\n",
       "      <td>country_code</td>\n",
       "      <td>1.00</td>\n",
       "      <td>216.00</td>\n",
       "      <td>215.00</td>\n",
       "      <td>93.13</td>\n",
       "      <td>30.00</td>\n",
       "      <td>99.02</td>\n",
       "      <td>0.26</td>\n",
       "      <td>-1.85</td>\n",
       "    </tr>\n",
       "    <tr>\n",
       "      <th>2</th>\n",
       "      <td>longitude</td>\n",
       "      <td>-122.70</td>\n",
       "      <td>175.31</td>\n",
       "      <td>298.01</td>\n",
       "      <td>33.76</td>\n",
       "      <td>73.78</td>\n",
       "      <td>77.37</td>\n",
       "      <td>-0.68</td>\n",
       "      <td>-0.60</td>\n",
       "    </tr>\n",
       "    <tr>\n",
       "      <th>3</th>\n",
       "      <td>latitude</td>\n",
       "      <td>-41.33</td>\n",
       "      <td>55.98</td>\n",
       "      <td>97.31</td>\n",
       "      <td>19.31</td>\n",
       "      <td>25.24</td>\n",
       "      <td>23.27</td>\n",
       "      <td>-1.08</td>\n",
       "      <td>0.61</td>\n",
       "    </tr>\n",
       "    <tr>\n",
       "      <th>4</th>\n",
       "      <td>average_cost_for_two</td>\n",
       "      <td>0.00</td>\n",
       "      <td>25000017.00</td>\n",
       "      <td>25000017.00</td>\n",
       "      <td>7165.67</td>\n",
       "      <td>290.00</td>\n",
       "      <td>290877.34</td>\n",
       "      <td>84.49</td>\n",
       "      <td>7257.44</td>\n",
       "    </tr>\n",
       "    <tr>\n",
       "      <th>5</th>\n",
       "      <td>has_table_booking</td>\n",
       "      <td>0.00</td>\n",
       "      <td>1.00</td>\n",
       "      <td>1.00</td>\n",
       "      <td>0.06</td>\n",
       "      <td>0.00</td>\n",
       "      <td>0.24</td>\n",
       "      <td>3.62</td>\n",
       "      <td>11.13</td>\n",
       "    </tr>\n",
       "    <tr>\n",
       "      <th>6</th>\n",
       "      <td>has_online_delivery</td>\n",
       "      <td>0.00</td>\n",
       "      <td>1.00</td>\n",
       "      <td>1.00</td>\n",
       "      <td>0.35</td>\n",
       "      <td>0.00</td>\n",
       "      <td>0.48</td>\n",
       "      <td>0.61</td>\n",
       "      <td>-1.62</td>\n",
       "    </tr>\n",
       "    <tr>\n",
       "      <th>7</th>\n",
       "      <td>is_delivering_now</td>\n",
       "      <td>0.00</td>\n",
       "      <td>1.00</td>\n",
       "      <td>1.00</td>\n",
       "      <td>0.17</td>\n",
       "      <td>0.00</td>\n",
       "      <td>0.38</td>\n",
       "      <td>1.71</td>\n",
       "      <td>0.94</td>\n",
       "    </tr>\n",
       "    <tr>\n",
       "      <th>8</th>\n",
       "      <td>switch_to_order_menu</td>\n",
       "      <td>0.00</td>\n",
       "      <td>0.00</td>\n",
       "      <td>0.00</td>\n",
       "      <td>0.00</td>\n",
       "      <td>0.00</td>\n",
       "      <td>0.00</td>\n",
       "      <td>0.00</td>\n",
       "      <td>0.00</td>\n",
       "    </tr>\n",
       "    <tr>\n",
       "      <th>9</th>\n",
       "      <td>price_range</td>\n",
       "      <td>1.00</td>\n",
       "      <td>4.00</td>\n",
       "      <td>3.00</td>\n",
       "      <td>2.63</td>\n",
       "      <td>3.00</td>\n",
       "      <td>0.96</td>\n",
       "      <td>-0.04</td>\n",
       "      <td>-0.98</td>\n",
       "    </tr>\n",
       "    <tr>\n",
       "      <th>10</th>\n",
       "      <td>aggregate_rating</td>\n",
       "      <td>0.00</td>\n",
       "      <td>4.90</td>\n",
       "      <td>4.90</td>\n",
       "      <td>4.12</td>\n",
       "      <td>4.20</td>\n",
       "      <td>0.67</td>\n",
       "      <td>-3.90</td>\n",
       "      <td>21.12</td>\n",
       "    </tr>\n",
       "    <tr>\n",
       "      <th>11</th>\n",
       "      <td>votes</td>\n",
       "      <td>0.00</td>\n",
       "      <td>41333.00</td>\n",
       "      <td>41333.00</td>\n",
       "      <td>617.48</td>\n",
       "      <td>335.00</td>\n",
       "      <td>1128.47</td>\n",
       "      <td>10.66</td>\n",
       "      <td>260.46</td>\n",
       "    </tr>\n",
       "  </tbody>\n",
       "</table>\n",
       "</div>"
      ],
      "text/plain": [
       "              attributes     min         max       range        mean  \\\n",
       "0          restaurant_id  549.00 19040277.00 19039728.00 10543268.35   \n",
       "1           country_code    1.00      216.00      215.00       93.13   \n",
       "2              longitude -122.70      175.31      298.01       33.76   \n",
       "3               latitude  -41.33       55.98       97.31       19.31   \n",
       "4   average_cost_for_two    0.00 25000017.00 25000017.00     7165.67   \n",
       "5      has_table_booking    0.00        1.00        1.00        0.06   \n",
       "6    has_online_delivery    0.00        1.00        1.00        0.35   \n",
       "7      is_delivering_now    0.00        1.00        1.00        0.17   \n",
       "8   switch_to_order_menu    0.00        0.00        0.00        0.00   \n",
       "9            price_range    1.00        4.00        3.00        2.63   \n",
       "10      aggregate_rating    0.00        4.90        4.90        4.12   \n",
       "11                 votes    0.00    41333.00    41333.00      617.48   \n",
       "\n",
       "       median        std  skew  kurtosis  \n",
       "0  7701329.00 7075016.83 -0.08     -1.73  \n",
       "1       30.00      99.02  0.26     -1.85  \n",
       "2       73.78      77.37 -0.68     -0.60  \n",
       "3       25.24      23.27 -1.08      0.61  \n",
       "4      290.00  290877.34 84.49   7257.44  \n",
       "5        0.00       0.24  3.62     11.13  \n",
       "6        0.00       0.48  0.61     -1.62  \n",
       "7        0.00       0.38  1.71      0.94  \n",
       "8        0.00       0.00  0.00      0.00  \n",
       "9        3.00       0.96 -0.04     -0.98  \n",
       "10       4.20       0.67 -3.90     21.12  \n",
       "11     335.00    1128.47 10.66    260.46  "
      ]
     },
     "execution_count": 23,
     "metadata": {},
     "output_type": "execute_result"
    }
   ],
   "source": [
    "#Analysis of data statistics\n",
    "num_data = get_num(df1)\n",
    "get_stats(num_data)"
   ]
  },
  {
   "cell_type": "markdown",
   "id": "b0a6e176",
   "metadata": {
    "heading_collapsed": true,
    "id": "b0a6e176"
   },
   "source": [
    "# 2.0. Business Analysis"
   ]
  },
  {
   "cell_type": "code",
   "execution_count": 24,
   "id": "cff992f9-f509-41b5-abf3-8288b7229516",
   "metadata": {},
   "outputs": [
    {
     "data": {
      "text/html": [
       "<div>\n",
       "<style scoped>\n",
       "    .dataframe tbody tr th:only-of-type {\n",
       "        vertical-align: middle;\n",
       "    }\n",
       "\n",
       "    .dataframe tbody tr th {\n",
       "        vertical-align: top;\n",
       "    }\n",
       "\n",
       "    .dataframe thead th {\n",
       "        text-align: right;\n",
       "    }\n",
       "</style>\n",
       "<table border=\"1\" class=\"dataframe\">\n",
       "  <thead>\n",
       "    <tr style=\"text-align: right;\">\n",
       "      <th></th>\n",
       "      <th>restaurant_id</th>\n",
       "      <th>restaurant_name</th>\n",
       "      <th>country</th>\n",
       "      <th>city</th>\n",
       "      <th>address</th>\n",
       "      <th>locality</th>\n",
       "      <th>locality_verbose</th>\n",
       "      <th>longitude</th>\n",
       "      <th>latitude</th>\n",
       "      <th>cuisines</th>\n",
       "      <th>...</th>\n",
       "      <th>average_cost_for_two</th>\n",
       "      <th>currency</th>\n",
       "      <th>has_table_booking</th>\n",
       "      <th>has_online_delivery</th>\n",
       "      <th>is_delivering_now</th>\n",
       "      <th>aggregate_rating</th>\n",
       "      <th>rating_color</th>\n",
       "      <th>color_name</th>\n",
       "      <th>rating_text</th>\n",
       "      <th>votes</th>\n",
       "    </tr>\n",
       "  </thead>\n",
       "  <tbody>\n",
       "    <tr>\n",
       "      <th>0</th>\n",
       "      <td>6310675</td>\n",
       "      <td>Mama Lou's Italian Kitchen</td>\n",
       "      <td>Philippines</td>\n",
       "      <td>Las Piñas City</td>\n",
       "      <td>Block 1, Lot 36, Tropical Avenue Corner Tropic...</td>\n",
       "      <td>BF International</td>\n",
       "      <td>BF International, Las Piñas City</td>\n",
       "      <td>121.01</td>\n",
       "      <td>14.45</td>\n",
       "      <td>Italian</td>\n",
       "      <td>...</td>\n",
       "      <td>1100</td>\n",
       "      <td>Botswana Pula(P)</td>\n",
       "      <td>1</td>\n",
       "      <td>0</td>\n",
       "      <td>0</td>\n",
       "      <td>4.60</td>\n",
       "      <td>3F7E00</td>\n",
       "      <td>darkgreen</td>\n",
       "      <td>Excellent</td>\n",
       "      <td>619</td>\n",
       "    </tr>\n",
       "    <tr>\n",
       "      <th>2</th>\n",
       "      <td>6314542</td>\n",
       "      <td>Blackbird</td>\n",
       "      <td>Philippines</td>\n",
       "      <td>Makati City</td>\n",
       "      <td>Nielson Tower, Ayala Triangle Gardens, Salcedo...</td>\n",
       "      <td>Ayala Triangle Gardens, Salcedo Village, Makat...</td>\n",
       "      <td>Ayala Triangle Gardens, Salcedo Village, Makat...</td>\n",
       "      <td>121.02</td>\n",
       "      <td>14.56</td>\n",
       "      <td>European</td>\n",
       "      <td>...</td>\n",
       "      <td>3100</td>\n",
       "      <td>Botswana Pula(P)</td>\n",
       "      <td>0</td>\n",
       "      <td>0</td>\n",
       "      <td>0</td>\n",
       "      <td>4.70</td>\n",
       "      <td>3F7E00</td>\n",
       "      <td>darkgreen</td>\n",
       "      <td>Excellent</td>\n",
       "      <td>469</td>\n",
       "    </tr>\n",
       "    <tr>\n",
       "      <th>3</th>\n",
       "      <td>6301293</td>\n",
       "      <td>Banapple</td>\n",
       "      <td>Philippines</td>\n",
       "      <td>Makati City</td>\n",
       "      <td>Ayala Triangle Gardens, Salcedo Village, Makat...</td>\n",
       "      <td>Ayala Triangle Gardens, Salcedo Village, Makat...</td>\n",
       "      <td>Ayala Triangle Gardens, Salcedo Village, Makat...</td>\n",
       "      <td>121.02</td>\n",
       "      <td>14.56</td>\n",
       "      <td>Filipino</td>\n",
       "      <td>...</td>\n",
       "      <td>800</td>\n",
       "      <td>Botswana Pula(P)</td>\n",
       "      <td>0</td>\n",
       "      <td>0</td>\n",
       "      <td>0</td>\n",
       "      <td>4.40</td>\n",
       "      <td>5BA829</td>\n",
       "      <td>green</td>\n",
       "      <td>Very Good</td>\n",
       "      <td>867</td>\n",
       "    </tr>\n",
       "    <tr>\n",
       "      <th>4</th>\n",
       "      <td>6315689</td>\n",
       "      <td>Bad Bird</td>\n",
       "      <td>Philippines</td>\n",
       "      <td>Makati City</td>\n",
       "      <td>Hole In The Wall, Floor 4, Century City Mall, ...</td>\n",
       "      <td>Century City Mall, Poblacion, Makati City</td>\n",
       "      <td>Century City Mall, Poblacion, Makati City, Mak...</td>\n",
       "      <td>121.03</td>\n",
       "      <td>14.57</td>\n",
       "      <td>American</td>\n",
       "      <td>...</td>\n",
       "      <td>700</td>\n",
       "      <td>Botswana Pula(P)</td>\n",
       "      <td>0</td>\n",
       "      <td>0</td>\n",
       "      <td>0</td>\n",
       "      <td>4.40</td>\n",
       "      <td>5BA829</td>\n",
       "      <td>green</td>\n",
       "      <td>Very Good</td>\n",
       "      <td>858</td>\n",
       "    </tr>\n",
       "    <tr>\n",
       "      <th>5</th>\n",
       "      <td>6304833</td>\n",
       "      <td>Manam</td>\n",
       "      <td>Philippines</td>\n",
       "      <td>Makati City</td>\n",
       "      <td>Level 1, Greenbelt 2, Ayala Center, Greenbelt,...</td>\n",
       "      <td>Greenbelt 2, San Lorenzo, Makati City</td>\n",
       "      <td>Greenbelt 2, San Lorenzo, Makati City, Makati ...</td>\n",
       "      <td>121.02</td>\n",
       "      <td>14.55</td>\n",
       "      <td>Filipino</td>\n",
       "      <td>...</td>\n",
       "      <td>700</td>\n",
       "      <td>Botswana Pula(P)</td>\n",
       "      <td>0</td>\n",
       "      <td>0</td>\n",
       "      <td>0</td>\n",
       "      <td>4.70</td>\n",
       "      <td>3F7E00</td>\n",
       "      <td>darkgreen</td>\n",
       "      <td>Excellent</td>\n",
       "      <td>930</td>\n",
       "    </tr>\n",
       "    <tr>\n",
       "      <th>...</th>\n",
       "      <td>...</td>\n",
       "      <td>...</td>\n",
       "      <td>...</td>\n",
       "      <td>...</td>\n",
       "      <td>...</td>\n",
       "      <td>...</td>\n",
       "      <td>...</td>\n",
       "      <td>...</td>\n",
       "      <td>...</td>\n",
       "      <td>...</td>\n",
       "      <td>...</td>\n",
       "      <td>...</td>\n",
       "      <td>...</td>\n",
       "      <td>...</td>\n",
       "      <td>...</td>\n",
       "      <td>...</td>\n",
       "      <td>...</td>\n",
       "      <td>...</td>\n",
       "      <td>...</td>\n",
       "      <td>...</td>\n",
       "      <td>...</td>\n",
       "    </tr>\n",
       "    <tr>\n",
       "      <th>7522</th>\n",
       "      <td>5912546</td>\n",
       "      <td>Eataly</td>\n",
       "      <td>Turkey</td>\n",
       "      <td>İstanbul</td>\n",
       "      <td>Zorlu Center AVM, Köprü Katı, Levazım Mahalles...</td>\n",
       "      <td>Zorlu Center AVM, Levazım, Beşiktaş</td>\n",
       "      <td>Zorlu Center AVM, Levazım, Beşiktaş, İstanbul</td>\n",
       "      <td>29.02</td>\n",
       "      <td>41.07</td>\n",
       "      <td>Italian</td>\n",
       "      <td>...</td>\n",
       "      <td>300</td>\n",
       "      <td>Turkish Lira(TL)</td>\n",
       "      <td>0</td>\n",
       "      <td>0</td>\n",
       "      <td>0</td>\n",
       "      <td>4.30</td>\n",
       "      <td>5BA829</td>\n",
       "      <td>green</td>\n",
       "      <td>Very Good</td>\n",
       "      <td>1367</td>\n",
       "    </tr>\n",
       "    <tr>\n",
       "      <th>7523</th>\n",
       "      <td>5913006</td>\n",
       "      <td>Tarihi Çınaraltı Aile Çay Bahçesi</td>\n",
       "      <td>Turkey</td>\n",
       "      <td>İstanbul</td>\n",
       "      <td>Çengelköy Mahallesi, Çınaraltı Camii Sokak, No...</td>\n",
       "      <td>Çengelköy Merkez</td>\n",
       "      <td>Çengelköy Merkez, İstanbul</td>\n",
       "      <td>29.05</td>\n",
       "      <td>41.05</td>\n",
       "      <td>Fast Food</td>\n",
       "      <td>...</td>\n",
       "      <td>45</td>\n",
       "      <td>Turkish Lira(TL)</td>\n",
       "      <td>0</td>\n",
       "      <td>0</td>\n",
       "      <td>0</td>\n",
       "      <td>4.50</td>\n",
       "      <td>3F7E00</td>\n",
       "      <td>darkgreen</td>\n",
       "      <td>Excellent</td>\n",
       "      <td>1172</td>\n",
       "    </tr>\n",
       "    <tr>\n",
       "      <th>7524</th>\n",
       "      <td>5923535</td>\n",
       "      <td>Boon Cafe &amp; Restaurant</td>\n",
       "      <td>Turkey</td>\n",
       "      <td>İstanbul</td>\n",
       "      <td>Çengelköy Mahallesi, Çengelköy Caddesi, Kara S...</td>\n",
       "      <td>Çengelköy Merkez</td>\n",
       "      <td>Çengelköy Merkez, İstanbul</td>\n",
       "      <td>29.05</td>\n",
       "      <td>41.05</td>\n",
       "      <td>Restaurant Cafe</td>\n",
       "      <td>...</td>\n",
       "      <td>140</td>\n",
       "      <td>Turkish Lira(TL)</td>\n",
       "      <td>0</td>\n",
       "      <td>0</td>\n",
       "      <td>0</td>\n",
       "      <td>4.20</td>\n",
       "      <td>5BA829</td>\n",
       "      <td>green</td>\n",
       "      <td>Very Good</td>\n",
       "      <td>1160</td>\n",
       "    </tr>\n",
       "    <tr>\n",
       "      <th>7525</th>\n",
       "      <td>5914190</td>\n",
       "      <td>Kanaat Lokantası</td>\n",
       "      <td>Turkey</td>\n",
       "      <td>İstanbul</td>\n",
       "      <td>Sultantepe Mahallesi, Selmani Pak Caddesi, No ...</td>\n",
       "      <td>Üsküdar Merkez</td>\n",
       "      <td>Üsküdar Merkez, İstanbul</td>\n",
       "      <td>29.02</td>\n",
       "      <td>41.03</td>\n",
       "      <td>Home-made</td>\n",
       "      <td>...</td>\n",
       "      <td>95</td>\n",
       "      <td>Turkish Lira(TL)</td>\n",
       "      <td>0</td>\n",
       "      <td>0</td>\n",
       "      <td>0</td>\n",
       "      <td>4.00</td>\n",
       "      <td>5BA829</td>\n",
       "      <td>green</td>\n",
       "      <td>Very Good</td>\n",
       "      <td>770</td>\n",
       "    </tr>\n",
       "    <tr>\n",
       "      <th>7526</th>\n",
       "      <td>5913508</td>\n",
       "      <td>Katibim</td>\n",
       "      <td>Turkey</td>\n",
       "      <td>İstanbul</td>\n",
       "      <td>Mimar Sinan Mahallesi, Harem Sahilyolu, No 53,...</td>\n",
       "      <td>Üsküdar Merkez</td>\n",
       "      <td>Üsküdar Merkez, İstanbul</td>\n",
       "      <td>29.01</td>\n",
       "      <td>41.03</td>\n",
       "      <td>Restaurant Cafe</td>\n",
       "      <td>...</td>\n",
       "      <td>150</td>\n",
       "      <td>Turkish Lira(TL)</td>\n",
       "      <td>0</td>\n",
       "      <td>0</td>\n",
       "      <td>0</td>\n",
       "      <td>4.20</td>\n",
       "      <td>5BA829</td>\n",
       "      <td>green</td>\n",
       "      <td>Very Good</td>\n",
       "      <td>1141</td>\n",
       "    </tr>\n",
       "  </tbody>\n",
       "</table>\n",
       "<p>6929 rows × 21 columns</p>\n",
       "</div>"
      ],
      "text/plain": [
       "      restaurant_id                    restaurant_name      country  \\\n",
       "0           6310675         Mama Lou's Italian Kitchen  Philippines   \n",
       "2           6314542                          Blackbird  Philippines   \n",
       "3           6301293                           Banapple  Philippines   \n",
       "4           6315689                           Bad Bird  Philippines   \n",
       "5           6304833                              Manam  Philippines   \n",
       "...             ...                                ...          ...   \n",
       "7522        5912546                             Eataly       Turkey   \n",
       "7523        5913006  Tarihi Çınaraltı Aile Çay Bahçesi       Turkey   \n",
       "7524        5923535             Boon Cafe & Restaurant       Turkey   \n",
       "7525        5914190                   Kanaat Lokantası       Turkey   \n",
       "7526        5913508                            Katibim       Turkey   \n",
       "\n",
       "                city                                            address  \\\n",
       "0     Las Piñas City  Block 1, Lot 36, Tropical Avenue Corner Tropic...   \n",
       "2        Makati City  Nielson Tower, Ayala Triangle Gardens, Salcedo...   \n",
       "3        Makati City  Ayala Triangle Gardens, Salcedo Village, Makat...   \n",
       "4        Makati City  Hole In The Wall, Floor 4, Century City Mall, ...   \n",
       "5        Makati City  Level 1, Greenbelt 2, Ayala Center, Greenbelt,...   \n",
       "...              ...                                                ...   \n",
       "7522        İstanbul  Zorlu Center AVM, Köprü Katı, Levazım Mahalles...   \n",
       "7523        İstanbul  Çengelköy Mahallesi, Çınaraltı Camii Sokak, No...   \n",
       "7524        İstanbul  Çengelköy Mahallesi, Çengelköy Caddesi, Kara S...   \n",
       "7525        İstanbul  Sultantepe Mahallesi, Selmani Pak Caddesi, No ...   \n",
       "7526        İstanbul  Mimar Sinan Mahallesi, Harem Sahilyolu, No 53,...   \n",
       "\n",
       "                                               locality  \\\n",
       "0                                      BF International   \n",
       "2     Ayala Triangle Gardens, Salcedo Village, Makat...   \n",
       "3     Ayala Triangle Gardens, Salcedo Village, Makat...   \n",
       "4             Century City Mall, Poblacion, Makati City   \n",
       "5                 Greenbelt 2, San Lorenzo, Makati City   \n",
       "...                                                 ...   \n",
       "7522                Zorlu Center AVM, Levazım, Beşiktaş   \n",
       "7523                                   Çengelköy Merkez   \n",
       "7524                                   Çengelköy Merkez   \n",
       "7525                                     Üsküdar Merkez   \n",
       "7526                                     Üsküdar Merkez   \n",
       "\n",
       "                                       locality_verbose  longitude  latitude  \\\n",
       "0                      BF International, Las Piñas City     121.01     14.45   \n",
       "2     Ayala Triangle Gardens, Salcedo Village, Makat...     121.02     14.56   \n",
       "3     Ayala Triangle Gardens, Salcedo Village, Makat...     121.02     14.56   \n",
       "4     Century City Mall, Poblacion, Makati City, Mak...     121.03     14.57   \n",
       "5     Greenbelt 2, San Lorenzo, Makati City, Makati ...     121.02     14.55   \n",
       "...                                                 ...        ...       ...   \n",
       "7522      Zorlu Center AVM, Levazım, Beşiktaş, İstanbul      29.02     41.07   \n",
       "7523                         Çengelköy Merkez, İstanbul      29.05     41.05   \n",
       "7524                         Çengelköy Merkez, İstanbul      29.05     41.05   \n",
       "7525                           Üsküdar Merkez, İstanbul      29.02     41.03   \n",
       "7526                           Üsküdar Merkez, İstanbul      29.01     41.03   \n",
       "\n",
       "             cuisines  ... average_cost_for_two          currency  \\\n",
       "0             Italian  ...                 1100  Botswana Pula(P)   \n",
       "2            European  ...                 3100  Botswana Pula(P)   \n",
       "3            Filipino  ...                  800  Botswana Pula(P)   \n",
       "4            American  ...                  700  Botswana Pula(P)   \n",
       "5            Filipino  ...                  700  Botswana Pula(P)   \n",
       "...               ...  ...                  ...               ...   \n",
       "7522          Italian  ...                  300  Turkish Lira(TL)   \n",
       "7523        Fast Food  ...                   45  Turkish Lira(TL)   \n",
       "7524  Restaurant Cafe  ...                  140  Turkish Lira(TL)   \n",
       "7525        Home-made  ...                   95  Turkish Lira(TL)   \n",
       "7526  Restaurant Cafe  ...                  150  Turkish Lira(TL)   \n",
       "\n",
       "     has_table_booking  has_online_delivery  is_delivering_now  \\\n",
       "0                    1                    0                  0   \n",
       "2                    0                    0                  0   \n",
       "3                    0                    0                  0   \n",
       "4                    0                    0                  0   \n",
       "5                    0                    0                  0   \n",
       "...                ...                  ...                ...   \n",
       "7522                 0                    0                  0   \n",
       "7523                 0                    0                  0   \n",
       "7524                 0                    0                  0   \n",
       "7525                 0                    0                  0   \n",
       "7526                 0                    0                  0   \n",
       "\n",
       "      aggregate_rating  rating_color color_name rating_text votes  \n",
       "0                 4.60        3F7E00  darkgreen   Excellent   619  \n",
       "2                 4.70        3F7E00  darkgreen   Excellent   469  \n",
       "3                 4.40        5BA829      green   Very Good   867  \n",
       "4                 4.40        5BA829      green   Very Good   858  \n",
       "5                 4.70        3F7E00  darkgreen   Excellent   930  \n",
       "...                ...           ...        ...         ...   ...  \n",
       "7522              4.30        5BA829      green   Very Good  1367  \n",
       "7523              4.50        3F7E00  darkgreen   Excellent  1172  \n",
       "7524              4.20        5BA829      green   Very Good  1160  \n",
       "7525              4.00        5BA829      green   Very Good   770  \n",
       "7526              4.20        5BA829      green   Very Good  1141  \n",
       "\n",
       "[6929 rows x 21 columns]"
      ]
     },
     "execution_count": 24,
     "metadata": {},
     "output_type": "execute_result"
    }
   ],
   "source": [
    "df = process_data(df)\n",
    "df"
   ]
  },
  {
   "cell_type": "code",
   "execution_count": 25,
   "id": "22db0f83-ed39-4dec-8f09-dc42395a8965",
   "metadata": {},
   "outputs": [],
   "source": [
    "#Verifying duplicates\n",
    "#df2.duplicated()\n",
    "#df2.drop_duplicates()"
   ]
  },
  {
   "cell_type": "code",
   "execution_count": 26,
   "id": "4cac3d8f-409a-4790-8f73-d29a2da992e2",
   "metadata": {},
   "outputs": [
    {
     "data": {
      "text/plain": [
       "restaurant_id             int64\n",
       "restaurant_name          object\n",
       "country                  object\n",
       "city                     object\n",
       "address                  object\n",
       "locality                 object\n",
       "locality_verbose         object\n",
       "longitude               float64\n",
       "latitude                float64\n",
       "cuisines                 object\n",
       "price_type               object\n",
       "average_cost_for_two      int64\n",
       "currency                 object\n",
       "has_table_booking         int64\n",
       "has_online_delivery       int64\n",
       "is_delivering_now         int64\n",
       "aggregate_rating        float64\n",
       "rating_color             object\n",
       "color_name               object\n",
       "rating_text              object\n",
       "votes                     int64\n",
       "dtype: object"
      ]
     },
     "execution_count": 26,
     "metadata": {},
     "output_type": "execute_result"
    }
   ],
   "source": [
    "df.dtypes"
   ]
  },
  {
   "cell_type": "markdown",
   "id": "0ecdaeb6-c330-43c8-911a-368eae6dedcb",
   "metadata": {},
   "source": [
    "## 2.1. General Insights"
   ]
  },
  {
   "cell_type": "markdown",
   "id": "3b86737f-8e40-48a3-92c6-25398730fa42",
   "metadata": {},
   "source": [
    "### 1. Quantos restaurantes únicos estão registrados?"
   ]
  },
  {
   "cell_type": "code",
   "execution_count": 27,
   "id": "fc3b4b73-f463-4442-8c6b-f46dda963a48",
   "metadata": {},
   "outputs": [
    {
     "data": {
      "text/plain": [
       "6929"
      ]
     },
     "execution_count": 27,
     "metadata": {},
     "output_type": "execute_result"
    }
   ],
   "source": [
    "df['restaurant_id'].nunique()"
   ]
  },
  {
   "cell_type": "markdown",
   "id": "0e026c10-e46b-45fc-bdd3-efbdd24f659d",
   "metadata": {},
   "source": [
    "### 2. Quantos paises únicos estão registrados?"
   ]
  },
  {
   "cell_type": "code",
   "execution_count": 28,
   "id": "4597752f-3889-4a90-a7da-18b7a42b94e1",
   "metadata": {},
   "outputs": [
    {
     "data": {
      "text/plain": [
       "15"
      ]
     },
     "execution_count": 28,
     "metadata": {},
     "output_type": "execute_result"
    }
   ],
   "source": [
    "df['country'].nunique()"
   ]
  },
  {
   "cell_type": "markdown",
   "id": "12d94283-ed12-4c0b-a996-0d37c0332bfe",
   "metadata": {},
   "source": [
    "### 3. Quantas cidades únicas estão registradas?"
   ]
  },
  {
   "cell_type": "code",
   "execution_count": 29,
   "id": "67f83c10-af7b-4f2f-8642-96a138c04bc2",
   "metadata": {},
   "outputs": [
    {
     "data": {
      "text/plain": [
       "125"
      ]
     },
     "execution_count": 29,
     "metadata": {},
     "output_type": "execute_result"
    }
   ],
   "source": [
    "df['city'].nunique()"
   ]
  },
  {
   "cell_type": "markdown",
   "id": "5eacdbdf-2bfc-4d6a-a9c8-68f94e1c1068",
   "metadata": {},
   "source": [
    "### 4. Qual o total de avaliações feitas?"
   ]
  },
  {
   "cell_type": "code",
   "execution_count": 30,
   "id": "596ac715-6b23-49a9-88f9-6e97e94a175a",
   "metadata": {},
   "outputs": [
    {
     "data": {
      "text/plain": [
       "6929"
      ]
     },
     "execution_count": 30,
     "metadata": {},
     "output_type": "execute_result"
    }
   ],
   "source": [
    "df['votes'].shape[0]"
   ]
  },
  {
   "cell_type": "markdown",
   "id": "f98311af-ae3f-4fd3-bb9d-46296d93e70b",
   "metadata": {},
   "source": [
    "### 5. Qual o total de tipos de culinária registrados?"
   ]
  },
  {
   "cell_type": "code",
   "execution_count": 31,
   "id": "a9e452d1-b8e8-4d8b-83ab-18c19edaa627",
   "metadata": {},
   "outputs": [
    {
     "data": {
      "text/plain": [
       "165"
      ]
     },
     "execution_count": 31,
     "metadata": {},
     "output_type": "execute_result"
    }
   ],
   "source": [
    "df['cuisines'].nunique()"
   ]
  },
  {
   "cell_type": "markdown",
   "id": "503f392f-5461-4781-a225-3e6a0626dc4a",
   "metadata": {},
   "source": [
    "## 2.2. Countries"
   ]
  },
  {
   "cell_type": "markdown",
   "id": "6d657d66-e773-435a-8202-b5ab13e970fb",
   "metadata": {},
   "source": [
    "### 1. Qual o nome do país que possui mais cidades registradas?"
   ]
  },
  {
   "cell_type": "code",
   "execution_count": 32,
   "id": "38a05588-da9d-4152-b8f0-9dcdde43f3c5",
   "metadata": {},
   "outputs": [
    {
     "data": {
      "text/plain": [
       "'India'"
      ]
     },
     "execution_count": 32,
     "metadata": {},
     "output_type": "execute_result"
    }
   ],
   "source": [
    "df.loc[:, ['country', 'city']].groupby('country').count().sort_values('city', ascending=False).reset_index().iloc[0,0]"
   ]
  },
  {
   "cell_type": "markdown",
   "id": "8e187eca-aca6-4b3b-b255-f3d94b6fbaf6",
   "metadata": {},
   "source": [
    "### 2. Qual o nome do país que possui mais restaurantes registrados?"
   ]
  },
  {
   "cell_type": "code",
   "execution_count": 33,
   "id": "a40659b4-0102-4625-8b19-32b74b0a6ec1",
   "metadata": {},
   "outputs": [
    {
     "data": {
      "text/plain": [
       "'India'"
      ]
     },
     "execution_count": 33,
     "metadata": {},
     "output_type": "execute_result"
    }
   ],
   "source": [
    "df.loc[:, ['restaurant_id','country']].groupby('country').nunique().sort_values('restaurant_id', ascending=False).reset_index().iloc[0,0]"
   ]
  },
  {
   "cell_type": "markdown",
   "id": "704ea963-1633-4f02-91d3-cb279fb8db1c",
   "metadata": {},
   "source": [
    "### 3. Qual o nome do país que possui mais restaurantes com os nível de preço igual a 4 registrados?"
   ]
  },
  {
   "cell_type": "code",
   "execution_count": 34,
   "id": "580deae0-1045-4bd1-b137-8f8724f35614",
   "metadata": {},
   "outputs": [
    {
     "data": {
      "text/plain": [
       "'India'"
      ]
     },
     "execution_count": 34,
     "metadata": {},
     "output_type": "execute_result"
    }
   ],
   "source": [
    "df.loc[df['aggregate_rating']>=4, ['restaurant_id', 'country']].groupby('country').count().sort_values('restaurant_id', ascending=False).reset_index().iloc[0,0]"
   ]
  },
  {
   "cell_type": "markdown",
   "id": "a6bf99e5-0714-43fb-9a6c-119720a53861",
   "metadata": {},
   "source": [
    "### 4. Qual o nome da país que possui a maior quantidade de tipos de culinária distintos?"
   ]
  },
  {
   "cell_type": "code",
   "execution_count": 35,
   "id": "60b56606-5a27-4521-be5e-d89b352af376",
   "metadata": {},
   "outputs": [
    {
     "data": {
      "text/plain": [
       "'India'"
      ]
     },
     "execution_count": 35,
     "metadata": {},
     "output_type": "execute_result"
    }
   ],
   "source": [
    "df.loc[:, ['country', 'cuisines']].groupby('country').nunique().sort_values('cuisines', ascending=False).reset_index().iloc[0,0]"
   ]
  },
  {
   "cell_type": "markdown",
   "id": "d3e14609-bba2-4971-a81c-e52e65fd6e24",
   "metadata": {},
   "source": [
    "### 5. Qual o nome do país que possui a maior quantidade de avaliações feitas?"
   ]
  },
  {
   "cell_type": "code",
   "execution_count": 36,
   "id": "b41a1e7e-ca85-4308-a33c-786350645552",
   "metadata": {},
   "outputs": [
    {
     "data": {
      "text/plain": [
       "'India'"
      ]
     },
     "execution_count": 36,
     "metadata": {},
     "output_type": "execute_result"
    }
   ],
   "source": [
    "df.loc[:, ['country', 'votes']].groupby('country').count().sort_values('votes', ascending=False).reset_index().iloc[0,0]"
   ]
  },
  {
   "cell_type": "markdown",
   "id": "fb047743-f4c2-4587-93b3-eec63f83b7a4",
   "metadata": {},
   "source": [
    "### 6. Qual o nome do país que possui a maior quantidade de restaurantes que fazem entrega?"
   ]
  },
  {
   "cell_type": "code",
   "execution_count": 37,
   "id": "1d66e258-97c7-4129-bada-65e5afc020ec",
   "metadata": {},
   "outputs": [
    {
     "data": {
      "text/plain": [
       "'India'"
      ]
     },
     "execution_count": 37,
     "metadata": {},
     "output_type": "execute_result"
    }
   ],
   "source": [
    "(df.loc[df['is_delivering_now']==1, ['country', 'restaurant_id']]\n",
    ".groupby('country')\n",
    ".count()\n",
    ".sort_values('restaurant_id', ascending=False)\n",
    ".reset_index()\n",
    ".iloc[0,0])"
   ]
  },
  {
   "cell_type": "markdown",
   "id": "71af9806-3eb2-4a2e-875c-1a074af68d5c",
   "metadata": {},
   "source": [
    "### 7. Qual o nome do país que possui a maior quantidade de restaurantes que aceitam reservas?"
   ]
  },
  {
   "cell_type": "code",
   "execution_count": 38,
   "id": "72d6df43-ee0f-4ec0-92fa-92dfa98697a3",
   "metadata": {},
   "outputs": [
    {
     "data": {
      "text/plain": [
       "'India'"
      ]
     },
     "execution_count": 38,
     "metadata": {},
     "output_type": "execute_result"
    }
   ],
   "source": [
    "cond = df['has_table_booking']==1\n",
    "df.loc[cond, ['country', 'restaurant_id']].groupby('country').count().sort_values('restaurant_id', ascending=False).reset_index().iloc[0,0]"
   ]
  },
  {
   "cell_type": "markdown",
   "id": "8b5cb88e-4f9a-4b6f-a50d-1f939b49fd68",
   "metadata": {},
   "source": [
    "### 8. Qual o nome do país que possui, na média, a maior quantidade de avaliações registrada?"
   ]
  },
  {
   "cell_type": "code",
   "execution_count": 39,
   "id": "678cec08-f8e9-4711-ba22-b00e46c5c5d2",
   "metadata": {},
   "outputs": [
    {
     "data": {
      "text/plain": [
       "'Indonesia'"
      ]
     },
     "execution_count": 39,
     "metadata": {},
     "output_type": "execute_result"
    }
   ],
   "source": [
    "df.loc[:, ['country', 'votes']].groupby('country').mean().sort_values('votes', ascending=False).reset_index().iloc[0,0]"
   ]
  },
  {
   "cell_type": "markdown",
   "id": "d4cce4c7-a40e-4264-9358-7b27187b9401",
   "metadata": {},
   "source": [
    "### 9. Qual o nome do país que possui, na média, a maior nota média registrada?"
   ]
  },
  {
   "cell_type": "code",
   "execution_count": 40,
   "id": "b1d1916e-fd14-4898-a403-bc1db99fac86",
   "metadata": {},
   "outputs": [
    {
     "data": {
      "text/plain": [
       "'Indonesia'"
      ]
     },
     "execution_count": 40,
     "metadata": {},
     "output_type": "execute_result"
    }
   ],
   "source": [
    "df.loc[:, ['country', 'aggregate_rating']].groupby('country').mean().sort_values('aggregate_rating', ascending=False).reset_index().iloc[0,0]"
   ]
  },
  {
   "cell_type": "markdown",
   "id": "32f15e47-6423-4540-83d5-184d86a3c526",
   "metadata": {},
   "source": [
    "### 10. Qual o nome do país que possui, na média, a menor nota média registrada?"
   ]
  },
  {
   "cell_type": "code",
   "execution_count": 41,
   "id": "987331ea-d54e-4ea0-bdc2-9c72e3126f0f",
   "metadata": {},
   "outputs": [
    {
     "data": {
      "text/plain": [
       "'Brazil'"
      ]
     },
     "execution_count": 41,
     "metadata": {},
     "output_type": "execute_result"
    }
   ],
   "source": [
    "df.loc[:, ['country', 'aggregate_rating']].groupby('country').mean().sort_values('aggregate_rating', ascending=True).reset_index().iloc[0,0]"
   ]
  },
  {
   "cell_type": "markdown",
   "id": "9717cef6-45c0-4103-8f40-893419932aa3",
   "metadata": {},
   "source": [
    "### 11. Qual a média de preço de um prato para dois por país?"
   ]
  },
  {
   "cell_type": "code",
   "execution_count": 42,
   "id": "40ca0b4c-860b-4ad8-9a07-ac25340ba921",
   "metadata": {},
   "outputs": [
    {
     "data": {
      "text/html": [
       "<div>\n",
       "<style scoped>\n",
       "    .dataframe tbody tr th:only-of-type {\n",
       "        vertical-align: middle;\n",
       "    }\n",
       "\n",
       "    .dataframe tbody tr th {\n",
       "        vertical-align: top;\n",
       "    }\n",
       "\n",
       "    .dataframe thead th {\n",
       "        text-align: right;\n",
       "    }\n",
       "</style>\n",
       "<table border=\"1\" class=\"dataframe\">\n",
       "  <thead>\n",
       "    <tr style=\"text-align: right;\">\n",
       "      <th></th>\n",
       "      <th>country</th>\n",
       "      <th>average_cost_for_two</th>\n",
       "    </tr>\n",
       "  </thead>\n",
       "  <tbody>\n",
       "    <tr>\n",
       "      <th>0</th>\n",
       "      <td>Indonesia</td>\n",
       "      <td>303000.00</td>\n",
       "    </tr>\n",
       "    <tr>\n",
       "      <th>1</th>\n",
       "      <td>Australia</td>\n",
       "      <td>138959.78</td>\n",
       "    </tr>\n",
       "    <tr>\n",
       "      <th>2</th>\n",
       "      <td>Sri Lanka</td>\n",
       "      <td>2579.38</td>\n",
       "    </tr>\n",
       "    <tr>\n",
       "      <th>3</th>\n",
       "      <td>Philippines</td>\n",
       "      <td>1227.83</td>\n",
       "    </tr>\n",
       "    <tr>\n",
       "      <th>4</th>\n",
       "      <td>India</td>\n",
       "      <td>704.40</td>\n",
       "    </tr>\n",
       "    <tr>\n",
       "      <th>5</th>\n",
       "      <td>South Africa</td>\n",
       "      <td>339.23</td>\n",
       "    </tr>\n",
       "    <tr>\n",
       "      <th>6</th>\n",
       "      <td>Qatar</td>\n",
       "      <td>174.00</td>\n",
       "    </tr>\n",
       "    <tr>\n",
       "      <th>7</th>\n",
       "      <td>United Arab Emirates</td>\n",
       "      <td>153.72</td>\n",
       "    </tr>\n",
       "    <tr>\n",
       "      <th>8</th>\n",
       "      <td>Singapure</td>\n",
       "      <td>141.44</td>\n",
       "    </tr>\n",
       "    <tr>\n",
       "      <th>9</th>\n",
       "      <td>Brazil</td>\n",
       "      <td>138.81</td>\n",
       "    </tr>\n",
       "    <tr>\n",
       "      <th>10</th>\n",
       "      <td>Turkey</td>\n",
       "      <td>128.58</td>\n",
       "    </tr>\n",
       "    <tr>\n",
       "      <th>11</th>\n",
       "      <td>New Zeland</td>\n",
       "      <td>62.15</td>\n",
       "    </tr>\n",
       "    <tr>\n",
       "      <th>12</th>\n",
       "      <td>United States of America</td>\n",
       "      <td>55.03</td>\n",
       "    </tr>\n",
       "    <tr>\n",
       "      <th>13</th>\n",
       "      <td>England</td>\n",
       "      <td>43.51</td>\n",
       "    </tr>\n",
       "    <tr>\n",
       "      <th>14</th>\n",
       "      <td>Canada</td>\n",
       "      <td>41.86</td>\n",
       "    </tr>\n",
       "  </tbody>\n",
       "</table>\n",
       "</div>"
      ],
      "text/plain": [
       "                     country  average_cost_for_two\n",
       "0                  Indonesia             303000.00\n",
       "1                  Australia             138959.78\n",
       "2                  Sri Lanka               2579.38\n",
       "3                Philippines               1227.83\n",
       "4                      India                704.40\n",
       "5               South Africa                339.23\n",
       "6                      Qatar                174.00\n",
       "7       United Arab Emirates                153.72\n",
       "8                  Singapure                141.44\n",
       "9                     Brazil                138.81\n",
       "10                    Turkey                128.58\n",
       "11                New Zeland                 62.15\n",
       "12  United States of America                 55.03\n",
       "13                   England                 43.51\n",
       "14                    Canada                 41.86"
      ]
     },
     "execution_count": 42,
     "metadata": {},
     "output_type": "execute_result"
    }
   ],
   "source": [
    "df.loc[:, ['average_cost_for_two', 'country']].groupby('country').mean().sort_values('average_cost_for_two', ascending=False).reset_index()"
   ]
  },
  {
   "cell_type": "markdown",
   "id": "373eed7f-cbbf-4fc5-8071-eefe4878867b",
   "metadata": {},
   "source": [
    "## 2.2. Cities"
   ]
  },
  {
   "cell_type": "markdown",
   "id": "d96d343a-a82a-4f8e-890a-f6ff90a6b201",
   "metadata": {},
   "source": [
    "### 1. Qual o nome da cidade que possui mais restaurantes registrados?"
   ]
  },
  {
   "cell_type": "code",
   "execution_count": 43,
   "id": "38f16a41-c449-4680-b683-87725e10af05",
   "metadata": {},
   "outputs": [
    {
     "data": {
      "text/plain": [
       "'Abu Dhabi'"
      ]
     },
     "execution_count": 43,
     "metadata": {},
     "output_type": "execute_result"
    }
   ],
   "source": [
    "df.loc[:, ['city', 'restaurant_id']].groupby('city').nunique().sort_values('restaurant_id', ascending=False).reset_index().iloc[0,0]"
   ]
  },
  {
   "cell_type": "markdown",
   "id": "05ae27ea-1f29-4d5a-8831-0ca5fc7dc05f",
   "metadata": {},
   "source": [
    "### 2. Qual o nome da cidade que possui mais restaurantes com nota média acima de 4?"
   ]
  },
  {
   "cell_type": "code",
   "execution_count": 44,
   "id": "89ad41fb-275f-4444-b56a-cc5239423aa9",
   "metadata": {},
   "outputs": [
    {
     "data": {
      "text/plain": [
       "'Bangalore'"
      ]
     },
     "execution_count": 44,
     "metadata": {},
     "output_type": "execute_result"
    }
   ],
   "source": [
    "cond = df['aggregate_rating']>4\n",
    "df.loc[cond, ['city', 'restaurant_id']].groupby('city').nunique().sort_values('restaurant_id', ascending=False).reset_index().iloc[0,0]"
   ]
  },
  {
   "cell_type": "markdown",
   "id": "1a65129a-6c7e-45cc-9d40-9b7aedbd6299",
   "metadata": {},
   "source": [
    "### 3. Qual o nome da cidade que possui mais restaurantes com nota média abaixo de 2.5?"
   ]
  },
  {
   "cell_type": "code",
   "execution_count": 45,
   "id": "21e7c262-31a1-45f3-8223-7464b7bcd7cd",
   "metadata": {},
   "outputs": [
    {
     "data": {
      "text/plain": [
       "'Gangtok'"
      ]
     },
     "execution_count": 45,
     "metadata": {},
     "output_type": "execute_result"
    }
   ],
   "source": [
    "cond =  df['aggregate_rating']<2.5\n",
    "df.loc[cond, ['city', 'restaurant_id']].groupby('city').nunique().sort_values('restaurant_id', ascending=False).reset_index().iloc[0,0]"
   ]
  },
  {
   "cell_type": "markdown",
   "id": "46843c72-e5a9-4516-b716-a5430c3ac853",
   "metadata": {},
   "source": [
    "### 4. Qual o nome da cidade que possui o maior valor médio de um prato para dois?"
   ]
  },
  {
   "cell_type": "code",
   "execution_count": 46,
   "id": "6b9ced59-f423-4edf-b60e-e26b5cfe4033",
   "metadata": {},
   "outputs": [
    {
     "data": {
      "text/plain": [
       "'Adelaide'"
      ]
     },
     "execution_count": 46,
     "metadata": {},
     "output_type": "execute_result"
    }
   ],
   "source": [
    "#df.loc[:, ['city', 'average_cost_for_two']].sort_values('average_cost_for_two', ascending=False).iloc[0,0]\n",
    "df.loc[:, ['city', 'average_cost_for_two']].groupby('city').mean().sort_values('average_cost_for_two', ascending=False).reset_index().iloc[0,0]"
   ]
  },
  {
   "cell_type": "markdown",
   "id": "6c8f5751-9cb2-43d4-b99e-aa0b3b0a06dc",
   "metadata": {},
   "source": [
    "### 5. Qual o nome da cidade que possui a maior quantidade de tipos de culinária distintas?"
   ]
  },
  {
   "cell_type": "code",
   "execution_count": 47,
   "id": "89fa2801-436b-4900-950d-88bfb6d05da0",
   "metadata": {},
   "outputs": [
    {
     "data": {
      "text/plain": [
       "'Birmingham'"
      ]
     },
     "execution_count": 47,
     "metadata": {},
     "output_type": "execute_result"
    }
   ],
   "source": [
    "df.loc[:, ['city', 'cuisines']].groupby('city').nunique().sort_values('cuisines', ascending=False).reset_index().iloc[0,0]"
   ]
  },
  {
   "cell_type": "markdown",
   "id": "120f2944-34f1-469f-9b04-5c1c3974d7dc",
   "metadata": {},
   "source": [
    "### 6. Qual o nome da cidade que possui a maior quantidade de restaurantes que fazem reservas?"
   ]
  },
  {
   "cell_type": "code",
   "execution_count": 48,
   "id": "c77fe036-8897-4ab7-8c21-908bc5ad00b5",
   "metadata": {},
   "outputs": [
    {
     "data": {
      "text/plain": [
       "'Bangalore'"
      ]
     },
     "execution_count": 48,
     "metadata": {},
     "output_type": "execute_result"
    }
   ],
   "source": [
    "df.loc[df['has_table_booking']==1, ['city', 'restaurant_id']].groupby('city').nunique().sort_values('restaurant_id', ascending=False).reset_index().iloc[0,0]"
   ]
  },
  {
   "cell_type": "markdown",
   "id": "a8685fae-c1fb-4a2e-8c5a-2f843b2500d9",
   "metadata": {},
   "source": [
    "### 7. Qual o nome da cidade que possui a maior quantidade de restaurantes que fazem entregas?"
   ]
  },
  {
   "cell_type": "code",
   "execution_count": 49,
   "id": "9d2ac734-60df-4110-99bb-57cdd1c48591",
   "metadata": {},
   "outputs": [
    {
     "data": {
      "text/plain": [
       "'Vadodara'"
      ]
     },
     "execution_count": 49,
     "metadata": {},
     "output_type": "execute_result"
    }
   ],
   "source": [
    "df.loc[df['is_delivering_now']==1, ['city', 'restaurant_id']].groupby('city').nunique().sort_values('restaurant_id', ascending=False).reset_index().iloc[0,0]"
   ]
  },
  {
   "cell_type": "markdown",
   "id": "43225583-15d4-4d31-9605-0aacd67258db",
   "metadata": {},
   "source": [
    "### 8. Qual o nome da cidade que possui a maior quantidade de restaurantes que aceitam pedidos online?"
   ]
  },
  {
   "cell_type": "code",
   "execution_count": 50,
   "id": "e372bd66-4dc1-4c88-9d9d-cefd097e8240",
   "metadata": {},
   "outputs": [
    {
     "data": {
      "text/plain": [
       "'Bhopal'"
      ]
     },
     "execution_count": 50,
     "metadata": {},
     "output_type": "execute_result"
    }
   ],
   "source": [
    "cond= df['has_online_delivery']==1\n",
    "df.loc[cond, ['city', 'restaurant_id']].groupby('city').nunique().sort_values('restaurant_id', ascending=False).reset_index().iloc[0,0]"
   ]
  },
  {
   "cell_type": "markdown",
   "id": "c59a3f2c-3bd6-4a36-8647-645e22e01397",
   "metadata": {},
   "source": [
    "## 2.2. Restaurants"
   ]
  },
  {
   "cell_type": "markdown",
   "id": "b49954cb-18b9-4e51-b7ca-dca3f18bd360",
   "metadata": {},
   "source": [
    "### 1. Qual o nome do restaurante que possui a maior quantidade de avaliações?"
   ]
  },
  {
   "cell_type": "code",
   "execution_count": 51,
   "id": "22cd09d0-8133-4d76-84ef-00ef36e05387",
   "metadata": {},
   "outputs": [
    {
     "data": {
      "text/plain": [
       "'Bawarchi'"
      ]
     },
     "execution_count": 51,
     "metadata": {},
     "output_type": "execute_result"
    }
   ],
   "source": [
    "df.loc[:, ['restaurant_name', 'restaurant_id', 'votes']].sort_values(['votes', 'restaurant_id'], ascending=[False, True]).iloc[0,0]"
   ]
  },
  {
   "cell_type": "markdown",
   "id": "c14b8a14-0c5d-496a-ae66-ef2e4881c59e",
   "metadata": {},
   "source": [
    "### 2. Qual o nome do restaurante com a maior nota média?"
   ]
  },
  {
   "cell_type": "code",
   "execution_count": 52,
   "id": "026b0bc7-3179-4ef7-8fe8-aadac8440bf4",
   "metadata": {},
   "outputs": [
    {
     "data": {
      "text/plain": [
       "'Indian Grill Room'"
      ]
     },
     "execution_count": 52,
     "metadata": {},
     "output_type": "execute_result"
    }
   ],
   "source": [
    "df.loc[:, ['restaurant_name', 'restaurant_id', 'aggregate_rating']].sort_values(['aggregate_rating', 'restaurant_id'], ascending=[False, True]).iloc[0,0]"
   ]
  },
  {
   "cell_type": "markdown",
   "id": "d1b83bf7-2723-4c83-9cd2-d27372aabd68",
   "metadata": {},
   "source": [
    "### 3. Qual o nome do restaurante que possui o maior valor de uma prato para duas pessoas?"
   ]
  },
  {
   "cell_type": "code",
   "execution_count": 53,
   "id": "1241d6fc-6210-47f2-a385-c812d0eac40b",
   "metadata": {},
   "outputs": [
    {
     "data": {
      "text/plain": [
       "\"d'Arry's Verandah Restaurant\""
      ]
     },
     "execution_count": 53,
     "metadata": {},
     "output_type": "execute_result"
    }
   ],
   "source": [
    "cols = ['restaurant_name',  'restaurant_id', 'average_cost_for_two']\n",
    "df.loc[:, cols].sort_values(['average_cost_for_two', 'restaurant_id'], ascending=[False, True]).iloc[0,0]"
   ]
  },
  {
   "cell_type": "markdown",
   "id": "1555a13b-c682-4799-8e63-c7e9ab5bf1f2",
   "metadata": {},
   "source": [
    "### 4. Qual o nome do restaurante de tipo de culinária brasileira que possui a menor média de avaliação?"
   ]
  },
  {
   "cell_type": "code",
   "execution_count": 54,
   "id": "8d32c2c6-cae6-4983-b3ed-ece92fec0708",
   "metadata": {},
   "outputs": [
    {
     "data": {
      "text/plain": [
       "'Loca Como tu Madre'"
      ]
     },
     "execution_count": 54,
     "metadata": {},
     "output_type": "execute_result"
    }
   ],
   "source": [
    "cond = df['cuisines']=='Brazilian'\n",
    "cols = ['restaurant_name', 'restaurant_id', 'aggregate_rating']\n",
    "df.loc[cond, cols].sort_values(['aggregate_rating', 'restaurant_id'], ascending=[True, True]).iloc[0,0]"
   ]
  },
  {
   "cell_type": "markdown",
   "id": "3ad6df05-b6ad-45f1-a2c0-f70553ca409e",
   "metadata": {},
   "source": [
    "### 5. Qual o nome do restaurante de tipo de culinária brasileira, e que é do Brasil, que possui a maior média de avaliação?"
   ]
  },
  {
   "cell_type": "code",
   "execution_count": 55,
   "id": "cafa5f9c-597e-4f3c-a7d1-dfa26846480b",
   "metadata": {},
   "outputs": [
    {
     "data": {
      "text/plain": [
       "'Braseiro da Gávea'"
      ]
     },
     "execution_count": 55,
     "metadata": {},
     "output_type": "execute_result"
    }
   ],
   "source": [
    "cond = (df['cuisines']=='Brazilian') & (df['country']=='Brazil')\n",
    "cols = ['restaurant_name', 'restaurant_id', 'aggregate_rating']\n",
    "df.loc[cond, cols].sort_values(['aggregate_rating', 'restaurant_id'], ascending=[False, True]).iloc[0,0]"
   ]
  },
  {
   "cell_type": "markdown",
   "id": "971e03e0-4364-407e-80be-6fd434732c04",
   "metadata": {},
   "source": [
    "### 6. Os restaurantes que aceitam pedido online são também, na média, os restaurantes que mais possuem avaliações registradas?"
   ]
  },
  {
   "cell_type": "code",
   "execution_count": 56,
   "id": "3177645e-4a87-4ef3-bc01-567f991762cf",
   "metadata": {},
   "outputs": [
    {
     "data": {
      "text/html": [
       "<div>\n",
       "<style scoped>\n",
       "    .dataframe tbody tr th:only-of-type {\n",
       "        vertical-align: middle;\n",
       "    }\n",
       "\n",
       "    .dataframe tbody tr th {\n",
       "        vertical-align: top;\n",
       "    }\n",
       "\n",
       "    .dataframe thead th {\n",
       "        text-align: right;\n",
       "    }\n",
       "</style>\n",
       "<table border=\"1\" class=\"dataframe\">\n",
       "  <thead>\n",
       "    <tr style=\"text-align: right;\">\n",
       "      <th></th>\n",
       "      <th>has_online_delivery</th>\n",
       "      <th>votes</th>\n",
       "    </tr>\n",
       "  </thead>\n",
       "  <tbody>\n",
       "    <tr>\n",
       "      <th>0</th>\n",
       "      <td>1</td>\n",
       "      <td>838.82</td>\n",
       "    </tr>\n",
       "    <tr>\n",
       "      <th>1</th>\n",
       "      <td>0</td>\n",
       "      <td>479.42</td>\n",
       "    </tr>\n",
       "  </tbody>\n",
       "</table>\n",
       "</div>"
      ],
      "text/plain": [
       "   has_online_delivery  votes\n",
       "0                    1 838.82\n",
       "1                    0 479.42"
      ]
     },
     "execution_count": 56,
     "metadata": {},
     "output_type": "execute_result"
    }
   ],
   "source": [
    "df.loc[:, ['has_online_delivery', 'votes']].groupby(['has_online_delivery']).mean().sort_values('votes', ascending=False).reset_index()"
   ]
  },
  {
   "cell_type": "markdown",
   "id": "6d4436eb-21be-495d-8324-57b633e5eece",
   "metadata": {},
   "source": [
    "### 7. Os restaurantes que fazem reservas são também, na média, os restaurantes que possuem o maior valor médio de um prato para duas pessoas?"
   ]
  },
  {
   "cell_type": "code",
   "execution_count": 57,
   "id": "422ddcb1-a443-4ae4-a573-f15d666f6cc4",
   "metadata": {},
   "outputs": [
    {
     "data": {
      "text/html": [
       "<div>\n",
       "<style scoped>\n",
       "    .dataframe tbody tr th:only-of-type {\n",
       "        vertical-align: middle;\n",
       "    }\n",
       "\n",
       "    .dataframe tbody tr th {\n",
       "        vertical-align: top;\n",
       "    }\n",
       "\n",
       "    .dataframe thead th {\n",
       "        text-align: right;\n",
       "    }\n",
       "</style>\n",
       "<table border=\"1\" class=\"dataframe\">\n",
       "  <thead>\n",
       "    <tr style=\"text-align: right;\">\n",
       "      <th></th>\n",
       "      <th>has_table_booking</th>\n",
       "      <th>average_cost_for_two</th>\n",
       "    </tr>\n",
       "  </thead>\n",
       "  <tbody>\n",
       "    <tr>\n",
       "      <th>0</th>\n",
       "      <td>1</td>\n",
       "      <td>69998.42</td>\n",
       "    </tr>\n",
       "    <tr>\n",
       "      <th>1</th>\n",
       "      <td>0</td>\n",
       "      <td>3488.60</td>\n",
       "    </tr>\n",
       "  </tbody>\n",
       "</table>\n",
       "</div>"
      ],
      "text/plain": [
       "   has_table_booking  average_cost_for_two\n",
       "0                  1              69998.42\n",
       "1                  0               3488.60"
      ]
     },
     "execution_count": 57,
     "metadata": {},
     "output_type": "execute_result"
    }
   ],
   "source": [
    "df.loc[:, ['has_table_booking', 'average_cost_for_two']].groupby('has_table_booking').mean().sort_values('average_cost_for_two', ascending=False).reset_index()"
   ]
  },
  {
   "cell_type": "markdown",
   "id": "88235bef-213c-4166-972b-9c78cd024cde",
   "metadata": {},
   "source": [
    "### 8. Os restaurantes do tipo de culinária japonesa dos Estados Unidos da América possuem um valor médio de prato para duas pessoas maior que as churrascarias americanas (BBQ)?"
   ]
  },
  {
   "cell_type": "code",
   "execution_count": 58,
   "id": "979b5028-c723-49bf-bef5-0fca7db2cf34",
   "metadata": {},
   "outputs": [
    {
     "data": {
      "text/html": [
       "<div>\n",
       "<style scoped>\n",
       "    .dataframe tbody tr th:only-of-type {\n",
       "        vertical-align: middle;\n",
       "    }\n",
       "\n",
       "    .dataframe tbody tr th {\n",
       "        vertical-align: top;\n",
       "    }\n",
       "\n",
       "    .dataframe thead th {\n",
       "        text-align: right;\n",
       "    }\n",
       "</style>\n",
       "<table border=\"1\" class=\"dataframe\">\n",
       "  <thead>\n",
       "    <tr style=\"text-align: right;\">\n",
       "      <th></th>\n",
       "      <th>cuisines</th>\n",
       "      <th>average_cost_for_two</th>\n",
       "    </tr>\n",
       "  </thead>\n",
       "  <tbody>\n",
       "    <tr>\n",
       "      <th>0</th>\n",
       "      <td>Japanese</td>\n",
       "      <td>56.41</td>\n",
       "    </tr>\n",
       "    <tr>\n",
       "      <th>1</th>\n",
       "      <td>BBQ</td>\n",
       "      <td>39.64</td>\n",
       "    </tr>\n",
       "  </tbody>\n",
       "</table>\n",
       "</div>"
      ],
      "text/plain": [
       "   cuisines  average_cost_for_two\n",
       "0  Japanese                 56.41\n",
       "1       BBQ                 39.64"
      ]
     },
     "execution_count": 58,
     "metadata": {},
     "output_type": "execute_result"
    }
   ],
   "source": [
    "cond = ((df['cuisines']=='Japanese') | (df['cuisines']=='BBQ')) & (df['country']=='United States of America')\n",
    "df.loc[cond, ['cuisines', 'average_cost_for_two']].groupby('cuisines').mean().sort_values('average_cost_for_two', ascending=False).reset_index()"
   ]
  },
  {
   "cell_type": "markdown",
   "id": "123ad117-9b62-4dd8-86ae-2e8cf606541b",
   "metadata": {},
   "source": [
    "## 2.3. Cousine"
   ]
  },
  {
   "cell_type": "markdown",
   "id": "5226074b-201e-406a-83de-d913a8b8ae0d",
   "metadata": {},
   "source": [
    "###  1. Dos restaurantes que possuem o tipo de culinária italiana, qual o nome do restaurante com a maior média de avaliação?"
   ]
  },
  {
   "cell_type": "code",
   "execution_count": 59,
   "id": "b78c8be9-1892-4266-a571-29736fbe1418",
   "metadata": {},
   "outputs": [
    {
     "data": {
      "text/plain": [
       "'Darshan'"
      ]
     },
     "execution_count": 59,
     "metadata": {},
     "output_type": "execute_result"
    }
   ],
   "source": [
    "cond = df['cuisines']=='Italian'\n",
    "df.loc[cond, ['restaurant_name', 'restaurant_id', 'aggregate_rating']].sort_values(['aggregate_rating', 'restaurant_id'], ascending=[False, True]).iloc[0,0]"
   ]
  },
  {
   "cell_type": "markdown",
   "id": "8d2dc87a-5f7d-4445-aac2-acff5c34623c",
   "metadata": {},
   "source": [
    "### 2. Dos restaurantes que possuem o tipo de culinária italiana, qual o nome do restaurante com a menor média de avaliação?"
   ]
  },
  {
   "cell_type": "code",
   "execution_count": 60,
   "id": "192f794c-a53f-4b3e-945b-9c9396c3753b",
   "metadata": {},
   "outputs": [
    {
     "data": {
      "text/plain": [
       "'Avenida Paulista'"
      ]
     },
     "execution_count": 60,
     "metadata": {},
     "output_type": "execute_result"
    }
   ],
   "source": [
    "cond = df['cuisines']=='Italian'\n",
    "df.loc[cond, ['restaurant_name', 'restaurant_id', 'aggregate_rating']].sort_values(['aggregate_rating', 'restaurant_id'], ascending=[True, True]).iloc[0,0]"
   ]
  },
  {
   "cell_type": "markdown",
   "id": "e9826e8a-9535-4704-bf91-ab7f626fabd4",
   "metadata": {},
   "source": [
    "### 3. Dos restaurantes que possuem o tipo de culinária americana, qual o nome do restaurante com a maior média de avaliação?"
   ]
  },
  {
   "cell_type": "code",
   "execution_count": 61,
   "id": "02ae3764-2efd-48aa-8514-c1b47c4f5fb3",
   "metadata": {},
   "outputs": [
    {
     "data": {
      "text/plain": [
       "'Burger & Lobster'"
      ]
     },
     "execution_count": 61,
     "metadata": {},
     "output_type": "execute_result"
    }
   ],
   "source": [
    "cond = df['cuisines']=='American'\n",
    "df.loc[cond, ['restaurant_name', 'restaurant_id', 'aggregate_rating']].sort_values(['aggregate_rating', 'restaurant_id'], ascending=[False, True]).iloc[0,0]"
   ]
  },
  {
   "cell_type": "markdown",
   "id": "1607a53f-4666-44c9-a6c6-b5c95763325a",
   "metadata": {},
   "source": [
    "### 4. Dos restaurantes que possuem o tipo de culinária americana, qual o nome do restaurante com a menor média de avaliação?"
   ]
  },
  {
   "cell_type": "code",
   "execution_count": 62,
   "id": "8b706ca7-ec8c-46ea-b765-2fdf14a3446d",
   "metadata": {},
   "outputs": [
    {
     "data": {
      "text/plain": [
       "'Alston Bar & Beef'"
      ]
     },
     "execution_count": 62,
     "metadata": {},
     "output_type": "execute_result"
    }
   ],
   "source": [
    "cond = df['cuisines']=='American'\n",
    "df.loc[cond, ['restaurant_name', 'restaurant_id', 'aggregate_rating']].sort_values(['aggregate_rating', 'restaurant_id'], ascending=[True, True]).iloc[0,0]"
   ]
  },
  {
   "cell_type": "markdown",
   "id": "846eec89-c58c-4259-aeee-f3f5fff88526",
   "metadata": {},
   "source": [
    "### 5. Dos restaurantes que possuem o tipo de culinária árabe, qual o nome do restaurante com a maior média de avaliação?"
   ]
  },
  {
   "cell_type": "code",
   "execution_count": 63,
   "id": "253fd775-11f6-40ad-ad45-63e8d53d79f6",
   "metadata": {},
   "outputs": [
    {
     "data": {
      "text/plain": [
       "'Mandi@36'"
      ]
     },
     "execution_count": 63,
     "metadata": {},
     "output_type": "execute_result"
    }
   ],
   "source": [
    "cond = df['cuisines']=='Arabian'\n",
    "df.loc[cond, ['restaurant_name', 'restaurant_id', 'aggregate_rating']].sort_values(['aggregate_rating', 'restaurant_id'], ascending=[False, True]).iloc[0,0]"
   ]
  },
  {
   "cell_type": "markdown",
   "id": "c2be1122-4416-4c1c-9368-edd95fe2f049",
   "metadata": {},
   "source": [
    "### 6. Dos restaurantes que possuem o tipo de culinária árabe, qual o nome do restaurante com a menor média de avaliação?"
   ]
  },
  {
   "cell_type": "code",
   "execution_count": 64,
   "id": "cdd77060-391d-4770-ac7a-0938b79ef2e1",
   "metadata": {},
   "outputs": [
    {
     "data": {
      "text/plain": [
       "'Raful'"
      ]
     },
     "execution_count": 64,
     "metadata": {},
     "output_type": "execute_result"
    }
   ],
   "source": [
    "cond = df['cuisines']=='Arabian'\n",
    "df.loc[cond, ['restaurant_name', 'restaurant_id', 'aggregate_rating']].sort_values(['aggregate_rating', 'restaurant_id'], ascending=[True, True]).iloc[0,0]"
   ]
  },
  {
   "cell_type": "markdown",
   "id": "989465e1-8889-40f8-97be-62fa79980931",
   "metadata": {},
   "source": [
    "### 7. Dos restaurantes que possuem o tipo de culinária japonesa, qual o nome do restaurante com a maior média de avaliação?"
   ]
  },
  {
   "cell_type": "code",
   "execution_count": 65,
   "id": "9f2c6971-ee8b-4906-b63a-a2bad9cb562c",
   "metadata": {},
   "outputs": [
    {
     "data": {
      "text/plain": [
       "'Sushi Samba'"
      ]
     },
     "execution_count": 65,
     "metadata": {},
     "output_type": "execute_result"
    }
   ],
   "source": [
    "cond = df['cuisines']=='Japanese'\n",
    "df.loc[cond, ['restaurant_name', 'restaurant_id', 'aggregate_rating']].sort_values(['aggregate_rating', 'restaurant_id'], ascending=[False, True]).iloc[0,0]"
   ]
  },
  {
   "cell_type": "markdown",
   "id": "4aca2642-4f7b-463f-8295-788341b84ebc",
   "metadata": {},
   "source": [
    "### 8. Dos restaurantes que possuem o tipo de culinária japonesa, qual o nome do restaurante com a menor média de avaliação?"
   ]
  },
  {
   "cell_type": "code",
   "execution_count": 66,
   "id": "e7244b15-c3ff-4a38-b692-9d72ccb6505f",
   "metadata": {},
   "outputs": [
    {
     "data": {
      "text/plain": [
       "'Banzai Sushi'"
      ]
     },
     "execution_count": 66,
     "metadata": {},
     "output_type": "execute_result"
    }
   ],
   "source": [
    "cond = df['cuisines']=='Japanese'\n",
    "df.loc[cond, ['restaurant_name', 'restaurant_id', 'aggregate_rating']].sort_values(['aggregate_rating', 'restaurant_id'], ascending=[True, True]).iloc[0,0]"
   ]
  },
  {
   "cell_type": "markdown",
   "id": "deef3073-520e-4e79-a024-a67b40f15f4a",
   "metadata": {},
   "source": [
    "### 9. Dos restaurantes que possuem o tipo de culinária caseira, qual o nome do restaurante com a maior média de avaliação?"
   ]
  },
  {
   "cell_type": "code",
   "execution_count": 67,
   "id": "ef3178df-ec5a-41d5-8982-9ca2880f2abd",
   "metadata": {},
   "outputs": [
    {
     "data": {
      "text/plain": [
       "'Kanaat Lokantası'"
      ]
     },
     "execution_count": 67,
     "metadata": {},
     "output_type": "execute_result"
    }
   ],
   "source": [
    "cond = df['cuisines']=='Home-made'\n",
    "df.loc[cond, ['restaurant_name', 'restaurant_id', 'aggregate_rating']].sort_values(['aggregate_rating', 'restaurant_id'], ascending=[False, True]).iloc[0,0]"
   ]
  },
  {
   "cell_type": "markdown",
   "id": "e0e41390-8b3e-4406-b9db-2b1aea7a97fd",
   "metadata": {},
   "source": [
    "### 10. Dos restaurantes que possuem o tipo de culinária caseira, qual o nome do restaurante com a menor média de avaliação?"
   ]
  },
  {
   "cell_type": "code",
   "execution_count": 68,
   "id": "ee1bcb6e-af99-459c-8b27-4d8494966579",
   "metadata": {},
   "outputs": [
    {
     "data": {
      "text/plain": [
       "'GurMekan Restaurant'"
      ]
     },
     "execution_count": 68,
     "metadata": {},
     "output_type": "execute_result"
    }
   ],
   "source": [
    "cond = df['cuisines']=='Home-made'\n",
    "df.loc[cond, ['restaurant_name', 'restaurant_id', 'aggregate_rating']].sort_values(['aggregate_rating', 'restaurant_id'], ascending=[True, True]).iloc[0,0]"
   ]
  },
  {
   "cell_type": "markdown",
   "id": "501059a9-9ba8-4a51-afb9-5548db84e021",
   "metadata": {},
   "source": [
    "### 11. Qual o tipo de culinária que possui o maior valor médio de um prato para duas pessoas?"
   ]
  },
  {
   "cell_type": "code",
   "execution_count": 69,
   "id": "19fbe087-6e8d-421b-bd2a-e3935ceb1915",
   "metadata": {},
   "outputs": [
    {
     "data": {
      "text/plain": [
       "'Modern Australian'"
      ]
     },
     "execution_count": 69,
     "metadata": {},
     "output_type": "execute_result"
    }
   ],
   "source": [
    "df.loc[:,['cuisines', 'average_cost_for_two']].groupby('cuisines').max().sort_values('average_cost_for_two', ascending=False).reset_index().iloc[0,0]"
   ]
  },
  {
   "cell_type": "markdown",
   "id": "6316749c-5898-41cd-b5cf-a10e35b3d94a",
   "metadata": {},
   "source": [
    "### 12. Qual o tipo de culinária que possui a maior nota média?"
   ]
  },
  {
   "cell_type": "code",
   "execution_count": 70,
   "id": "3206bf81-cff5-4a00-80bf-34bfb8f148d8",
   "metadata": {},
   "outputs": [
    {
     "data": {
      "text/html": [
       "<div>\n",
       "<style scoped>\n",
       "    .dataframe tbody tr th:only-of-type {\n",
       "        vertical-align: middle;\n",
       "    }\n",
       "\n",
       "    .dataframe tbody tr th {\n",
       "        vertical-align: top;\n",
       "    }\n",
       "\n",
       "    .dataframe thead th {\n",
       "        text-align: right;\n",
       "    }\n",
       "</style>\n",
       "<table border=\"1\" class=\"dataframe\">\n",
       "  <thead>\n",
       "    <tr style=\"text-align: right;\">\n",
       "      <th></th>\n",
       "      <th>cuisines</th>\n",
       "      <th>aggregate_rating</th>\n",
       "    </tr>\n",
       "  </thead>\n",
       "  <tbody>\n",
       "    <tr>\n",
       "      <th>0</th>\n",
       "      <td>Indian</td>\n",
       "      <td>4.90</td>\n",
       "    </tr>\n",
       "  </tbody>\n",
       "</table>\n",
       "</div>"
      ],
      "text/plain": [
       "  cuisines  aggregate_rating\n",
       "0   Indian              4.90"
      ]
     },
     "execution_count": 70,
     "metadata": {},
     "output_type": "execute_result"
    }
   ],
   "source": [
    "df.loc[:, ['cuisines', 'aggregate_rating']].groupby('cuisines').max().sort_values('aggregate_rating', ascending=False).reset_index().head(1)"
   ]
  },
  {
   "cell_type": "markdown",
   "id": "513946ba-d8b4-477f-96e4-4f8825048935",
   "metadata": {},
   "source": [
    "### 13. Qual o tipo de culinária que possui mais restaurantes que aceitam pedidos online e fazem entregas?"
   ]
  },
  {
   "cell_type": "code",
   "execution_count": 71,
   "id": "aafc5954-dcfc-47df-9379-5e9d8c754587",
   "metadata": {},
   "outputs": [
    {
     "data": {
      "text/plain": [
       "'North Indian'"
      ]
     },
     "execution_count": 71,
     "metadata": {},
     "output_type": "execute_result"
    }
   ],
   "source": [
    "cond = (df['has_online_delivery']==1) & (df['is_delivering_now']==1)\n",
    "df.loc[cond, ['cuisines', 'restaurant_id']].groupby('cuisines').count().sort_values('restaurant_id', ascending=False).reset_index().iloc[0,0]"
   ]
  }
 ],
 "metadata": {
  "colab": {
   "provenance": [
    {
     "file_id": "10SlVf24jQdeUrY6Ytim3BFlWXuSax_UV",
     "timestamp": 1680881973677
    }
   ]
  },
  "kernelspec": {
   "display_name": "Python 3 (ipykernel)",
   "language": "python",
   "name": "python3"
  },
  "language_info": {
   "codemirror_mode": {
    "name": "ipython",
    "version": 3
   },
   "file_extension": ".py",
   "mimetype": "text/x-python",
   "name": "python",
   "nbconvert_exporter": "python",
   "pygments_lexer": "ipython3",
   "version": "3.9.12"
  }
 },
 "nbformat": 4,
 "nbformat_minor": 5
}
